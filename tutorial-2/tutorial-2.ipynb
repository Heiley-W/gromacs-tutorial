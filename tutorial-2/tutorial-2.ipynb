{
 "cells": [
  {
   "cell_type": "markdown",
   "id": "2334705e-876f-40d7-a26f-7744ed1ccd04",
   "metadata": {},
   "source": [
    "# Tutorial 2: Membrane Protein\n",
    "Date: 5 Jun 2025\n",
    "\n",
    "Reference: https://tutorials.gromacs.org/membrane-protein.html"
   ]
  },
  {
   "cell_type": "markdown",
   "id": "a1999f68-1041-4b1d-a25c-5ba6852545b3",
   "metadata": {},
   "source": [
    "# 1. Download files\n",
    "maltoporin channel, a trimeric protein located at the outer membrane of Gram-negative bacteria, facilitates the translocation of the polysaccharide maltodextrin. The 3D structure (PDB code 1MAL) is downloaded from the [RCSB website](https://www.rcsb.org/structure/1MAL)."
   ]
  },
  {
   "cell_type": "code",
   "execution_count": null,
   "id": "0d7fdff9-e6db-404e-a864-9a7905fac45b",
   "metadata": {},
   "outputs": [],
   "source": [
    "# Visualise protein \n",
    "import nglview as ng\n",
    "file_path = \"../input/1mal.pdb\"\n",
    "show = ng.show_structure_file(file_path)\n",
    "show"
   ]
  },
  {
   "cell_type": "markdown",
   "id": "76f3f2b9-4238-4529-8d7e-fee686b006d3",
   "metadata": {},
   "source": [
    "# 2. Build protein-membrane system\n",
    "[CHARMM-GUI Input Generator](https://www.charmm-gui.org/) is a web-based tool to generate GROMACS inputs from protein-membrane system. Tutorial is accessed from [here](https://zenodo.org/records/10794193).\n",
    "\n",
    "1. In Bilayer Builder, upload PDB file\n",
    "2. Select proteins and specify initial and final residues (Select all) \n",
    "3. Specify system pH, perform terminal group patching, establish disulfide bond, and introduce phosphorylation to the residue (Default setting)\n",
    "4. Orient the protein (Use PDB orientation)\n",
    "5. Define shape and size of the system and select lipid type\n",
    "6. Select ion type\n",
    "7. Select force field\n",
    "8. Generate output\n",
    "\n",
    "We will then copy the topology, parameter, structure and customised mdp files provided in the tutorial to the `run` directory."
   ]
  },
  {
   "cell_type": "code",
   "execution_count": null,
   "id": "179fae5b-adbe-47af-a827-6ddb079b370d",
   "metadata": {},
   "outputs": [],
   "source": [
    "!mkdir run\n",
    "!cd run\n",
    "!pwd\n",
    "# Copy topology, parameter, and structure files to run folder\n",
    "!cp    input/charmm-gui-1MAL/gromacs/step5_input.gro          run\n",
    "!cp    input/charmm-gui-1MAL/gromacs/step5_input.pdb          run\n",
    "!cp    input/charmm-gui-1MAL/gromacs/topol.top                run\n",
    "!cp    input/charmm-gui-1MAL/gromacs/index.ndx                run\n",
    "!cp -r input/charmm-gui-1MAL/gromacs/toppar                   run\n",
    "# Updated mdp files\n",
    "!cp    input/mdp/*                                            run"
   ]
  },
  {
   "cell_type": "code",
   "execution_count": 30,
   "id": "15e0f37b-f4ae-42e7-8c04-5312c7f25810",
   "metadata": {},
   "outputs": [
    {
     "name": "stdout",
     "output_type": "stream",
     "text": [
      "index.ndx                           step6.4_equilibration_NPT_step2.mdp\n",
      "step5_input.gro                     step6.5_equilibration_NPT_step3.mdp\n",
      "step5_input.pdb                     step6.6_equilibration_NPT_step4.mdp\n",
      "step6.0_minimization.mdp            step7_production_revised.mdp\n",
      "step6.1_equilibration_NVT_step1.mdp topol.top\n",
      "step6.2_equilibration_NVT_step2.mdp \u001b[34mtoppar\u001b[m\u001b[m\n",
      "step6.3_equilibration_NPT_step1.mdp\n"
     ]
    }
   ],
   "source": [
    "!ls run"
   ]
  },
  {
   "cell_type": "markdown",
   "id": "41b400e4-4020-4eb5-ab0e-ab21eadc6914",
   "metadata": {},
   "source": [
    "# 3. Understanding a mdp file\n",
    "Here we will use the mdp file for minimisation as a reference. \n",
    "\n",
    "**Position restraints**\n",
    "- integrator=steep: For energy minimisation\n",
    "- nsteps: Maximum number of steps to integrate\n",
    "- emtol: Minimization is converged when the maximum force is smaller than this value\n",
    "- emstep: Initial step-size\n",
    "\n",
    "**Neighbour searching**\n",
    "- cutoff-scheme=Verlet: Cut-off schemes mean interactions are only computed up to a fixed distance and buffer (skin). \n",
    "- nstlist: Steps before updating\n",
    "- rlist: Cut-off distance without dynamics, Verlet buffer is used when there is dynamics\n",
    "\n",
    "**vdW**\n",
    "- vdWtype=Cut-off: Cut-off calculation for van der Waals force \n",
    "- vdW-modifier=Force-switch: Smoothly switch the vdW to zero from `rvdw_switch` to `rvdw`\n",
    "- rvdw_switch: Switch the LJ potential\n",
    "- rvdw: Cut-off distance for LJ potential\n",
    "\n",
    "**Electrostatics**\n",
    "- coulombtype=pme: Fast smooth Particle-Mesh Ewald (SPME) electrostatics\n",
    "- rcoulomb: Cut-off distance for coulomb force\n",
    "\n",
    "**Bonds**\n",
    "- constraints=h-bonds: Convert bonds with H-atoms to constraints\n",
    "- constraint_algorithm=LINCS: LINCS is an algorithm that resets bonds to their correct lengths after an unconstrained update. In the first step, the projections of the new bonds on the old bonds are set to zero. In the second step, a correction is applied for the lengthening of the bonds due to rotation"
   ]
  },
  {
   "cell_type": "code",
   "execution_count": 20,
   "id": "5db735c1-4c96-4afd-b8f7-8b13a3823d4c",
   "metadata": {},
   "outputs": [
    {
     "name": "stdout",
     "output_type": "stream",
     "text": [
      ";;Preprocessing\n",
      "title                   = CHARMM steepest descent energy minimization\n",
      "\n",
      "; Position restraints   \n",
      ";not applicable                      \n",
      ";;Run and output control\n",
      "integrator              = steep       ; A steepest descent algorithm for energy minimization\n",
      "nsteps                  = 50000       ; Maximum number of steps to integrate or minimize\n",
      "emtol                   = 1000.0      ; Tolerance [kJ mol-1 nm-1]\n",
      "emstep                  = 0.01 \n",
      "\n",
      ";;Neighbour searching\n",
      "cutoff-scheme           = Verlet      ; Generate a pair list with buffering \n",
      "nstlist                 = 10          ; Frequency to update the neighbour list [steps]\n",
      "rlist                   = 1.2\n",
      "\n",
      "\n",
      ";;VdW\n",
      "vdwtype                 = Cut-off\n",
      "vdw-modifier            = Force-switch \n",
      "rvdw_switch             = 1.0         ; Where to start switching the LJ potential [nm]\n",
      "rvdw                    = 1.2         ; Distance for the LJ or Buckingham cut-off [nm]\n",
      "\n",
      ";;Electrostatics\n",
      "coulombtype             = pme         ; Fast smooth Particle-Mesh Ewald (SPME) electrostatics\n",
      "rcoulomb                = 1.2         ; Distance for the Coulomb cut-off [nm]\n",
      "\n",
      ";;Bonds\n",
      "constraints             = h-bonds     ; Convert the bonds with H-atoms to constraints\n",
      "constraint_algorithm    = LINCS       ; LINear Constraint Solver\n"
     ]
    }
   ],
   "source": [
    "# Read the mdp file\n",
    "!cat input/mdp/step6.0_minimization.mdp"
   ]
  },
  {
   "cell_type": "markdown",
   "id": "6a00c20d-1188-4137-bf0d-30a265935c6e",
   "metadata": {},
   "source": [
    "# 4. Energy minimisation\n",
    "As always, we first use `grompp` generate the binary file (.tpr) that combines topology (.top), simulation parameters (.mdp) and structure (.gro).\n",
    "\n",
    "**Specifications**\n",
    "- f: MD parameter input (.mdp)\n",
    "- c: Structure configuration input (.gro)\n",
    "- r: Structure restraint input (.gro)\n",
    "- p: Process topology (.top)\n",
    "- o: Binary file output (.tpr)\n",
    "\n",
    "**Output**\n",
    "- minimisation.tpr: Atomic-level input (generated from grompp) "
   ]
  },
  {
   "cell_type": "code",
   "execution_count": null,
   "id": "2d8546ab-2856-4a9b-b36d-f6f38379945d",
   "metadata": {},
   "outputs": [],
   "source": [
    "## Step 1: Generate binary file \n",
    "!gmx grompp -f step6.0_minimization.mdp -c step5_input.gro -r step5_input.gro -p topol.top -o minimisation.tpr"
   ]
  },
  {
   "cell_type": "markdown",
   "id": "e8faacc3-0a5e-4ab7-8f19-16628eb4331f",
   "metadata": {},
   "source": [
    "Then, to run the energy minimisation, use `mdrun`.\n",
    "\n",
    "**Specifications**\n",
    "- v: Verbal\n",
    "- deffnm: Define file name\n",
    "\n",
    "**Output**\n",
    "- minimisation.log: Text log file\n",
    "- minimisation.edr: Binary energy file\n",
    "- minimisation.trr: Binary fill-precision trajectory\n",
    "- minimisation.gro: Energy-minimised structure\n",
    "- minimisation.tpr: Atomic-level input (generated previously)\n",
    "\n",
    "**Checking**\n",
    "- Potential energy is negative\n",
    "- Maximum force is smaller than the tolerance defined in .mdp (1000 kJ/(mol nm)). If not, the system may not be stable enough, and more time is required\n",
    "- Energy converges, data from `energy`"
   ]
  },
  {
   "cell_type": "code",
   "execution_count": 98,
   "id": "15d69e30-329c-401b-b8f8-12025043e10a",
   "metadata": {},
   "outputs": [
    {
     "name": "stdout",
     "output_type": "stream",
     "text": [
      "                  :-) GROMACS - gmx mdrun, 2025.1-Homebrew (-:\n",
      "\n",
      "Executable:   /opt/homebrew/bin/../Cellar/gromacs/2025.1/bin/gmx\n",
      "Data prefix:  /opt/homebrew/bin/../Cellar/gromacs/2025.1\n",
      "Working dir:  /Users/heiley/Downloads/gromacs-tutorial/tutorial-2/run\n",
      "Command line:\n",
      "  gmx mdrun -deffnm minimisation\n",
      "\n",
      "Reading file minimisation.tpr, VERSION 2025.1-Homebrew (single precision)\n",
      "Using 1 MPI thread\n",
      "Using 8 OpenMP threads \n",
      "\n",
      "\n",
      "Steepest Descents:\n",
      "   Tolerance (Fmax)   =  1.00000e+03\n",
      "   Number of steps    =        50000\n",
      "\n",
      "Step 11, time 0.011 (ps)  LINCS WARNING\n",
      "relative constraint deviation after LINCS:\n",
      "rms 0.000087, max 0.011374 (between atoms 45911 and 45913)\n",
      "bonds that rotated more than 30 degrees:\n",
      " atom 1 atom 2  angle  previous, current, constraint length\n",
      "  45905  45906   34.0    0.1122   0.1122      0.1111\n",
      "  45905  45907   33.3    0.1112   0.1111      0.1111\n",
      "  45911  45912   30.8    0.1112   0.1107      0.1111\n",
      "\n",
      "Step 12, time 0.012 (ps)  LINCS WARNING\n",
      "relative constraint deviation after LINCS:\n",
      "rms 0.000283, max 0.040452 (between atoms 45911 and 45912)\n",
      "bonds that rotated more than 30 degrees:\n",
      " atom 1 atom 2  angle  previous, current, constraint length\n",
      "  45905  45906   51.6    0.1122   0.1110      0.1111\n",
      "  45911  45912   56.6    0.1107   0.1156      0.1111\n",
      "  45911  45913   41.7    0.1124   0.1095      0.1111\n",
      "\n",
      "Step 13, time 0.013 (ps)  LINCS WARNING\n",
      "relative constraint deviation after LINCS:\n",
      "rms 0.000203, max 0.028109 (between atoms 50284 and 50286)\n",
      "bonds that rotated more than 30 degrees:\n",
      " atom 1 atom 2  angle  previous, current, constraint length\n",
      "  50284  50286   48.6    0.1111   0.1142      0.1111\n",
      "\n",
      "Step 14, time 0.014 (ps)  LINCS WARNING\n",
      "relative constraint deviation after LINCS:\n",
      "rms 0.000606, max 0.081456 (between atoms 36802 and 36804)\n",
      "bonds that rotated more than 30 degrees:\n",
      " atom 1 atom 2  angle  previous, current, constraint length\n",
      "  50284  50286   33.5    0.1142   0.1113      0.1111\n",
      "  36802  36803   60.2    0.1111   0.1043      0.1111\n",
      "  36802  36804   63.1    0.1110   0.1201      0.1111\n",
      "  53689  53690   33.0    0.1112   0.1135      0.1111\n",
      "  53689  53691   33.2    0.1112   0.1134      0.1111\n",
      "\n",
      "Step 16, time 0.016 (ps)  LINCS WARNING\n",
      "relative constraint deviation after LINCS:\n",
      "rms 0.000069, max 0.008946 (between atoms 36802 and 36803)\n",
      "bonds that rotated more than 30 degrees:\n",
      " atom 1 atom 2  angle  previous, current, constraint length\n",
      "  36802  36803   35.3    0.1103   0.1121      0.1111\n",
      "  36802  36804   33.9    0.1119   0.1102      0.1111\n",
      "\n",
      "Step 17, time 0.017 (ps)  LINCS WARNING\n",
      "relative constraint deviation after LINCS:\n",
      "rms 0.000253, max 0.032748 (between atoms 53689 and 53690)\n",
      "bonds that rotated more than 30 degrees:\n",
      " atom 1 atom 2  angle  previous, current, constraint length\n",
      "  36802  36803   34.2    0.1121   0.1114      0.1111\n",
      "  36802  36804   31.9    0.1102   0.1109      0.1111\n",
      "  53689  53690   43.8    0.1113   0.1147      0.1111\n",
      "  53689  53691   44.2    0.1113   0.1145      0.1111\n",
      "\n",
      "Step 20, time 0.02 (ps)  LINCS WARNING\n",
      "relative constraint deviation after LINCS:\n",
      "rms 0.000156, max 0.019482 (between atoms 53689 and 53690)\n",
      "bonds that rotated more than 30 degrees:\n",
      " atom 1 atom 2  angle  previous, current, constraint length\n",
      "  53692  53693   34.0    0.1109   0.1115      0.1111\n",
      "  53689  53691   30.1    0.1113   0.1132      0.1111\n",
      "\n",
      "Step 21, time 0.021 (ps)  LINCS WARNING\n",
      "relative constraint deviation after LINCS:\n",
      "rms 0.000236, max 0.028526 (between atoms 53689 and 53690)\n",
      "bonds that rotated more than 30 degrees:\n",
      " atom 1 atom 2  angle  previous, current, constraint length\n",
      "  53692  53693   31.5    0.1115   0.1120      0.1111\n",
      "  53692  53694   31.8    0.1114   0.1125      0.1111\n",
      "  53689  53690   37.8    0.1133   0.1143      0.1111\n",
      "  53689  53691   37.7    0.1132   0.1139      0.1111\n",
      "\n",
      "Step 22, time 0.022 (ps)  LINCS WARNING\n",
      "relative constraint deviation after LINCS:\n",
      "rms 0.000297, max 0.032588 (between atoms 53689 and 53690)\n",
      "bonds that rotated more than 30 degrees:\n",
      " atom 1 atom 2  angle  previous, current, constraint length\n",
      "  49071  49072   33.9    0.1100   0.1100      0.1100\n",
      "  53692  53693   44.4    0.1120   0.1132      0.1111\n",
      "  53692  53694   44.9    0.1125   0.1125      0.1111\n",
      "  53689  53690   33.4    0.1143   0.1147      0.1111\n",
      "  53689  53691   33.7    0.1139   0.1147      0.1111\n",
      "\n",
      "Step 23, time 0.023 (ps)  LINCS WARNING\n",
      "relative constraint deviation after LINCS:\n",
      "rms 0.000575, max 0.068370 (between atoms 53692 and 53693)\n",
      "bonds that rotated more than 30 degrees:\n",
      " atom 1 atom 2  angle  previous, current, constraint length\n",
      "  36802  36803   38.3    0.1115   0.1081      0.1111\n",
      "  36802  36804   39.7    0.1102   0.1148      0.1111\n",
      "  53692  53693   57.5    0.1132   0.1187      0.1111\n",
      "  53692  53694   53.1    0.1125   0.1180      0.1111\n",
      "  36805  36806   35.0    0.1111   0.1127      0.1111\n",
      "\n",
      "Step 24, time 0.024 (ps)  LINCS WARNING\n",
      "relative constraint deviation after LINCS:\n",
      "rms 0.000990, max 0.141636 (between atoms 36802 and 36804)\n",
      "bonds that rotated more than 30 degrees:\n",
      " atom 1 atom 2  angle  previous, current, constraint length\n",
      "  36802  36803   90.3    0.1081   0.1217      0.1111\n",
      "  36802  36804   66.6    0.1148   0.0954      0.1111\n",
      "  53692  53693   47.1    0.1187   0.1140      0.1111\n",
      "  53692  53694   48.3    0.1180   0.1151      0.1111\n",
      "\n",
      "Step 25, time 0.025 (ps)  LINCS WARNING\n",
      "relative constraint deviation after LINCS:\n",
      "rms 0.003122, max 0.516942 (between atoms 36802 and 36804)\n",
      "bonds that rotated more than 30 degrees:\n",
      " atom 1 atom 2  angle  previous, current, constraint length\n",
      "  36802  36803   90.1    0.1217   0.0885      0.1111\n",
      "  36802  36804   90.1    0.0954   0.1685      0.1111\n",
      "  53692  53693   54.7    0.1140   0.1129      0.1111\n",
      "Wrote pdb files with previous and current coordinates\n",
      "\n",
      "Step 26, time 0.026 (ps)  LINCS WARNING\n",
      "relative constraint deviation after LINCS:\n",
      "rms 0.000279, max 0.038948 (between atoms 36802 and 36803)\n",
      "bonds that rotated more than 30 degrees:\n",
      " atom 1 atom 2  angle  previous, current, constraint length\n",
      "  36802  36803   31.2    0.1217   0.1068      0.1111\n",
      "  36802  36804   41.6    0.0954   0.1145      0.1111\n",
      "\n",
      "Step 27, time 0.027 (ps)  LINCS WARNING\n",
      "relative constraint deviation after LINCS:\n",
      "rms 0.000328, max 0.051541 (between atoms 36802 and 36803)\n",
      "bonds that rotated more than 30 degrees:\n",
      " atom 1 atom 2  angle  previous, current, constraint length\n",
      "  36802  36803   57.1    0.1068   0.1168      0.1111\n",
      "  36802  36804   48.7    0.1145   0.1118      0.1111\n",
      "\n",
      "Step 28, time 0.028 (ps)  LINCS WARNING\n",
      "relative constraint deviation after LINCS:\n",
      "rms 0.000587, max 0.065613 (between atoms 34216 and 34217)\n",
      "bonds that rotated more than 30 degrees:\n",
      " atom 1 atom 2  angle  previous, current, constraint length\n",
      "  30738  30739   31.4    0.1111   0.1143      0.1111\n",
      "  30738  30741   31.6    0.1111   0.1141      0.1111\n",
      "  29928  29929   39.7    0.1111   0.1122      0.1111\n",
      "  29928  29930   35.1    0.1111   0.1098      0.1111\n",
      "  34219  34220   42.7    0.1114   0.1133      0.1111\n",
      "  34219  34221   42.8    0.1114   0.1132      0.1111\n",
      "  29925  29926   31.6    0.1112   0.1097      0.1111\n",
      "  34216  34217   64.4    0.1107   0.1184      0.1111\n",
      "  34216  34218   63.0    0.1114   0.1162      0.1111\n",
      "  49071  49072   37.0    0.1100   0.1100      0.1100\n",
      "  53082  53083   31.4    0.1111   0.1118      0.1111\n",
      "  53082  53084   31.4    0.1111   0.1113      0.1111\n",
      "\n",
      "Step 30, time 0.03 (ps)  LINCS WARNING\n",
      "relative constraint deviation after LINCS:\n",
      "rms 0.000189, max 0.016150 (between atoms 53085 and 53086)\n",
      "bonds that rotated more than 30 degrees:\n",
      " atom 1 atom 2  angle  previous, current, constraint length\n",
      "  49071  49072   32.2    0.1100   0.1100      0.1100\n",
      "\n",
      "Step 31, time 0.031 (ps)  LINCS WARNING\n",
      "relative constraint deviation after LINCS:\n",
      "rms 0.000913, max 0.097158 (between atoms 30738 and 30739)\n",
      "bonds that rotated more than 30 degrees:\n",
      " atom 1 atom 2  angle  previous, current, constraint length\n",
      "  30738  30739   42.0    0.1127   0.1219      0.1111\n",
      "  30738  30740   43.5    0.1125   0.1211      0.1111\n",
      "  30738  30741   43.8    0.1125   0.1212      0.1111\n",
      "\n",
      "Step 32, time 0.032 (ps)  LINCS WARNING\n",
      "relative constraint deviation after LINCS:\n",
      "rms 0.002007, max 0.215025 (between atoms 30738 and 30739)\n",
      "bonds that rotated more than 30 degrees:\n",
      " atom 1 atom 2  angle  previous, current, constraint length\n",
      "  30738  30739   57.5    0.1219   0.1350      0.1111\n",
      "  30738  30740   63.0    0.1211   0.1341      0.1111\n",
      "  30738  30741   55.3    0.1212   0.1332      0.1111\n",
      "\n",
      "Step 33, time 0.033 (ps)  LINCS WARNING\n",
      "relative constraint deviation after LINCS:\n",
      "rms 0.001765, max 0.234318 (between atoms 30738 and 30739)\n",
      "bonds that rotated more than 30 degrees:\n",
      " atom 1 atom 2  angle  previous, current, constraint length\n",
      "  30738  30739   47.2    0.1350   0.1371      0.1111\n",
      "  30738  30740   60.3    0.1341   0.1267      0.1111\n",
      "  30738  30741   68.7    0.1332   0.1284      0.1111\n",
      "  47622  47624   33.1    0.1110   0.1091      0.1111\n",
      "\n",
      "Step 34, time 0.034 (ps)  LINCS WARNING\n",
      "relative constraint deviation after LINCS:\n",
      "rms 0.007406, max 0.827121 (between atoms 30738 and 30740)\n",
      "bonds that rotated more than 30 degrees:\n",
      " atom 1 atom 2  angle  previous, current, constraint length\n",
      "  30738  30739   89.6    0.1371   0.2020      0.1111\n",
      "  30738  30740   90.1    0.1267   0.2030      0.1111\n",
      "  30738  30741   90.0    0.1284   0.1804      0.1111\n",
      "  47622  47623   53.5    0.1102   0.1169      0.1111\n",
      "  47622  47624   46.4    0.1091   0.1171      0.1111\n",
      "  47622  47625   53.2    0.1093   0.1163      0.1111\n",
      "Wrote pdb files with previous and current coordinates\n",
      "\n",
      "Step 35, time 0.035 (ps)  LINCS WARNING\n",
      "relative constraint deviation after LINCS:\n",
      "rms 0.000820, max 0.089471 (between atoms 30738 and 30739)\n",
      "bonds that rotated more than 30 degrees:\n",
      " atom 1 atom 2  angle  previous, current, constraint length\n",
      "  30738  30739   44.3    0.1371   0.1210      0.1111\n",
      "  30738  30740   46.7    0.1267   0.1203      0.1111\n",
      "  30738  30741   40.1    0.1284   0.1201      0.1111\n",
      "\n",
      "Step 36, time 0.036 (ps)  LINCS WARNING\n",
      "relative constraint deviation after LINCS:\n",
      "rms 0.000114, max 0.016385 (between atoms 23140 and 23142)\n",
      "bonds that rotated more than 30 degrees:\n",
      " atom 1 atom 2  angle  previous, current, constraint length\n",
      "  23140  23141   41.2    0.1112   0.1122      0.1111\n",
      "  23140  23142   39.6    0.1112   0.1129      0.1111\n",
      "  27781  27782   36.8    0.1111   0.1115      0.1111\n",
      "  27781  27783   38.0    0.1111   0.1109      0.1111\n",
      "\n",
      "Step 37, time 0.037 (ps)  LINCS WARNING\n",
      "relative constraint deviation after LINCS:\n",
      "rms 0.000432, max 0.040862 (between atoms 23137 and 23138)\n",
      "bonds that rotated more than 30 degrees:\n",
      " atom 1 atom 2  angle  previous, current, constraint length\n",
      "  23137  23138   53.5    0.1108   0.1156      0.1111\n",
      "  23137  23139   50.6    0.1114   0.1120      0.1111\n",
      "  27784  27785   34.7    0.1108   0.1145      0.1111\n",
      "  27784  27786   33.1    0.1106   0.1145      0.1111\n",
      "  23140  23141   31.3    0.1122   0.1146      0.1111\n",
      "  23140  23142   34.3    0.1129   0.1143      0.1111\n",
      "  27781  27782   38.6    0.1115   0.1119      0.1111\n",
      "  27781  27783   43.4    0.1109   0.1135      0.1111\n",
      "\n",
      "Step 39, time 0.039 (ps)  LINCS WARNING\n",
      "relative constraint deviation after LINCS:\n",
      "rms 0.000170, max 0.021619 (between atoms 23140 and 23141)\n",
      "bonds that rotated more than 30 degrees:\n",
      " atom 1 atom 2  angle  previous, current, constraint length\n",
      "  23140  23142   30.1    0.1115   0.1134      0.1111\n",
      "  27781  27782   30.3    0.1111   0.1111      0.1111\n",
      "\n",
      "Step 40, time 0.04 (ps)  LINCS WARNING\n",
      "relative constraint deviation after LINCS:\n",
      "rms 0.000115, max 0.016614 (between atoms 23140 and 23142)\n",
      "bonds that rotated more than 30 degrees:\n",
      " atom 1 atom 2  angle  previous, current, constraint length\n",
      "  23140  23141   35.2    0.1135   0.1124      0.1111\n",
      "  23140  23142   34.0    0.1134   0.1129      0.1111\n",
      "  27781  27782   34.1    0.1111   0.1112      0.1111\n",
      "  27781  27783   34.5    0.1115   0.1115      0.1111\n",
      "\n",
      "Step 41, time 0.041 (ps)  LINCS WARNING\n",
      "relative constraint deviation after LINCS:\n",
      "rms 0.000354, max 0.041406 (between atoms 23140 and 23141)\n",
      "bonds that rotated more than 30 degrees:\n",
      " atom 1 atom 2  angle  previous, current, constraint length\n",
      "  23140  23141   35.0    0.1124   0.1157      0.1111\n",
      "  23140  23142   37.0    0.1129   0.1152      0.1111\n",
      "  27781  27782   48.6    0.1112   0.1119      0.1111\n",
      "  27781  27783   43.5    0.1115   0.1131      0.1111\n",
      "  49071  49072   40.9    0.1100   0.1100      0.1100\n",
      "  53082  53083   32.2    0.1111   0.1118      0.1111\n",
      "  53082  53084   32.2    0.1111   0.1113      0.1111\n",
      "\n",
      "Step 44, time 0.044 (ps)  LINCS WARNING\n",
      "relative constraint deviation after LINCS:\n",
      "rms 0.000058, max 0.006287 (between atoms 53085 and 53087)\n",
      "bonds that rotated more than 30 degrees:\n",
      " atom 1 atom 2  angle  previous, current, constraint length\n",
      "  49071  49072   31.3    0.1100   0.1100      0.1100\n",
      "\n",
      "Step 45, time 0.045 (ps)  LINCS WARNING\n",
      "relative constraint deviation after LINCS:\n",
      "rms 0.000051, max 0.006057 (between atoms 53082 and 53084)\n",
      "bonds that rotated more than 30 degrees:\n",
      " atom 1 atom 2  angle  previous, current, constraint length\n",
      "  49071  49072   36.1    0.1100   0.1100      0.1100\n",
      "\n",
      "Step 46, time 0.046 (ps)  LINCS WARNING\n",
      "relative constraint deviation after LINCS:\n",
      "rms 0.000140, max 0.014636 (between atoms 53085 and 53086)\n",
      "bonds that rotated more than 30 degrees:\n",
      " atom 1 atom 2  angle  previous, current, constraint length\n",
      "  49071  49072   48.1    0.1100   0.1100      0.1100\n",
      "  53082  53083   34.0    0.1108   0.1122      0.1111\n",
      "  53082  53084   34.1    0.1118   0.1113      0.1111\n",
      "\n",
      "Step 47, time 0.047 (ps)  LINCS WARNING\n",
      "relative constraint deviation after LINCS:\n",
      "rms 0.000281, max 0.047935 (between atoms 53082 and 53084)\n",
      "bonds that rotated more than 30 degrees:\n",
      " atom 1 atom 2  angle  previous, current, constraint length\n",
      "  49071  49072   52.2    0.1100   0.1100      0.1100\n",
      "  53082  53083   56.5    0.1122   0.1099      0.1111\n",
      "  53082  53084   57.5    0.1113   0.1164      0.1111\n",
      "\n",
      "Step 48, time 0.048 (ps)  LINCS WARNING\n",
      "relative constraint deviation after LINCS:\n",
      "rms 0.000504, max 0.064204 (between atoms 49071 and 49072)\n",
      "bonds that rotated more than 30 degrees:\n",
      " atom 1 atom 2  angle  previous, current, constraint length\n",
      "  49071  49072   90.0    0.1100   0.1171      0.1100\n",
      "  53082  53083   63.0    0.1099   0.1161      0.1111\n",
      "  53082  53084   59.4    0.1164   0.1143      0.1111\n",
      "\n",
      "Step 49, time 0.049 (ps)  LINCS WARNING\n",
      "relative constraint deviation after LINCS:\n",
      "rms 0.000034, max 0.004171 (between atoms 53082 and 53083)\n",
      "bonds that rotated more than 30 degrees:\n",
      " atom 1 atom 2  angle  previous, current, constraint length\n",
      "  49071  49072   32.1    0.1100   0.1100      0.1100\n",
      "\n",
      "Step 50, time 0.05 (ps)  LINCS WARNING\n",
      "relative constraint deviation after LINCS:\n",
      "rms 0.000390, max 0.053692 (between atoms 53082 and 53083)\n",
      "bonds that rotated more than 30 degrees:\n",
      " atom 1 atom 2  angle  previous, current, constraint length\n",
      "  53082  53083   47.0    0.1116   0.1171      0.1111\n",
      "  53082  53084   40.5    0.1113   0.1079      0.1111\n",
      "  53085  53086   32.4    0.1109   0.1122      0.1111\n",
      "  53085  53087   44.5    0.1109   0.1145      0.1111\n",
      "\n",
      "Step 51, time 0.051 (ps)  LINCS WARNING\n",
      "relative constraint deviation after LINCS:\n",
      "rms 0.000045, max 0.007543 (between atoms 53082 and 53083)\n",
      "bonds that rotated more than 30 degrees:\n",
      " atom 1 atom 2  angle  previous, current, constraint length\n",
      "  49071  49072   48.6    0.1100   0.1100      0.1100\n",
      "\n",
      "Step 52, time 0.052 (ps)  LINCS WARNING\n",
      "relative constraint deviation after LINCS:\n",
      "rms 0.000887, max 0.118304 (between atoms 53085 and 53086)\n",
      "bonds that rotated more than 30 degrees:\n",
      " atom 1 atom 2  angle  previous, current, constraint length\n",
      "  49071  49072   44.1    0.1100   0.1100      0.1100\n",
      "  53085  53086   64.2    0.1111   0.1242      0.1111\n",
      "  53085  53087   52.3    0.1111   0.1228      0.1111\n",
      "\n",
      "Step 53, time 0.053 (ps)  LINCS WARNING\n",
      "relative constraint deviation after LINCS:\n",
      "rms 0.002637, max 0.378266 (between atoms 53085 and 53087)\n",
      "bonds that rotated more than 30 degrees:\n",
      " atom 1 atom 2  angle  previous, current, constraint length\n",
      "  49065  49067   32.0    0.1111   0.1101      0.1111\n",
      "  53085  53086   80.9    0.1242   0.1423      0.1111\n",
      "  53085  53087   90.0    0.1228   0.1531      0.1111\n",
      "\n",
      "Step 54, time 0.054 (ps)  LINCS WARNING\n",
      "relative constraint deviation after LINCS:\n",
      "rms 0.000689, max 0.070352 (between atoms 49075 and 49076)\n",
      "bonds that rotated more than 30 degrees:\n",
      " atom 1 atom 2  angle  previous, current, constraint length\n",
      "  53085  53086   49.5    0.1423   0.1170      0.1111\n",
      "  53085  53087   47.4    0.1531   0.1177      0.1111\n",
      "  49075  49077   90.0    0.1111   0.1180      0.1111\n",
      "\n",
      "Step 55, time 0.055 (ps)  LINCS WARNING\n",
      "relative constraint deviation after LINCS:\n",
      "rms 0.000075, max 0.010150 (between atoms 53085 and 53087)\n",
      "bonds that rotated more than 30 degrees:\n",
      " atom 1 atom 2  angle  previous, current, constraint length\n",
      "  49075  49077   32.8    0.1111   0.1108      0.1111\n",
      "\n",
      "Step 56, time 0.056 (ps)  LINCS WARNING\n",
      "relative constraint deviation after LINCS:\n",
      "rms 0.000173, max 0.020745 (between atoms 49075 and 49077)\n",
      "bonds that rotated more than 30 degrees:\n",
      " atom 1 atom 2  angle  previous, current, constraint length\n",
      "  49073  49074   32.5    0.1100   0.1100      0.1100\n",
      "  49075  49076   32.2    0.1110   0.1094      0.1111\n",
      "\n",
      "Step 57, time 0.057 (ps)  LINCS WARNING\n",
      "relative constraint deviation after LINCS:\n",
      "rms 0.000251, max 0.031000 (between atoms 49065 and 49066)\n",
      "bonds that rotated more than 30 degrees:\n",
      " atom 1 atom 2  angle  previous, current, constraint length\n",
      "  53082  53083   32.8    0.1110   0.1137      0.1111\n",
      "  53082  53084   44.1    0.1110   0.1101      0.1111\n",
      "  49065  49066   67.5    0.1111   0.1145      0.1111\n",
      "  49065  49067   81.7    0.1113   0.1133      0.1111\n",
      "\n",
      "Step 58, time 0.058 (ps)  LINCS WARNING\n",
      "relative constraint deviation after LINCS:\n",
      "rms 0.001827, max 0.278552 (between atoms 49065 and 49066)\n",
      "bonds that rotated more than 30 degrees:\n",
      " atom 1 atom 2  angle  previous, current, constraint length\n",
      "  49071  49072   90.0    0.1100   0.1107      0.1100\n",
      "  49065  49066   90.4    0.1145   0.1420      0.1111\n",
      "  49065  49067   90.5    0.1133   0.1135      0.1111\n",
      "  53082  53083   60.1    0.1137   0.1128      0.1111\n",
      "  53082  53084   90.0    0.1101   0.1280      0.1111\n",
      "  53085  53086   39.6    0.1110   0.1139      0.1111\n",
      "  49068  49069   61.6    0.1115   0.1046      0.1111\n",
      "  49068  49070   56.1    0.1112   0.1140      0.1111\n",
      "\n",
      "Step 59, time 0.059 (ps)  LINCS WARNING\n",
      "relative constraint deviation after LINCS:\n",
      "rms 0.000066, max 0.007438 (between atoms 49068 and 49069)\n",
      "bonds that rotated more than 30 degrees:\n",
      " atom 1 atom 2  angle  previous, current, constraint length\n",
      "  49071  49072   30.2    0.1100   0.1100      0.1100\n",
      "  49065  49066   36.0    0.1145   0.1118      0.1111\n",
      "  49065  49067   30.7    0.1133   0.1107      0.1111\n",
      "  53082  53084   34.8    0.1101   0.1113      0.1111\n",
      "\n",
      "Step 60, time 0.06 (ps)  LINCS WARNING\n",
      "relative constraint deviation after LINCS:\n",
      "rms 0.000020, max 0.002368 (between atoms 53085 and 53087)\n",
      "bonds that rotated more than 30 degrees:\n",
      " atom 1 atom 2  angle  previous, current, constraint length\n",
      "  49071  49072   42.4    0.1100   0.1100      0.1100\n",
      "\n",
      "Step 61, time 0.061 (ps)  LINCS WARNING\n",
      "relative constraint deviation after LINCS:\n",
      "rms 0.000093, max 0.011869 (between atoms 53082 and 53084)\n",
      "bonds that rotated more than 30 degrees:\n",
      " atom 1 atom 2  angle  previous, current, constraint length\n",
      "  49071  49072   52.9    0.1100   0.1100      0.1100\n",
      "\n",
      "Step 62, time 0.062 (ps)  LINCS WARNING\n",
      "relative constraint deviation after LINCS:\n",
      "rms 0.000055, max 0.006578 (between atoms 53082 and 53084)\n",
      "bonds that rotated more than 30 degrees:\n",
      " atom 1 atom 2  angle  previous, current, constraint length\n",
      "  49071  49072   90.0    0.1100   0.1105      0.1100\n",
      "\n",
      "Step 63, time 0.063 (ps)  LINCS WARNING\n",
      "relative constraint deviation after LINCS:\n",
      "rms 0.000007, max 0.000889 (between atoms 53082 and 53084)\n",
      "bonds that rotated more than 30 degrees:\n",
      " atom 1 atom 2  angle  previous, current, constraint length\n",
      "  49071  49072   30.2    0.1100   0.1100      0.1100\n",
      "\n",
      "Step 64, time 0.064 (ps)  LINCS WARNING\n",
      "relative constraint deviation after LINCS:\n",
      "rms 0.000171, max 0.021629 (between atoms 53082 and 53083)\n",
      "bonds that rotated more than 30 degrees:\n",
      " atom 1 atom 2  angle  previous, current, constraint length\n",
      "  53082  53084   35.4    0.1110   0.1108      0.1111\n",
      "  49068  49069   37.7    0.1111   0.1129      0.1111\n",
      "\n",
      "Step 65, time 0.065 (ps)  LINCS WARNING\n",
      "relative constraint deviation after LINCS:\n",
      "rms 0.000301, max 0.027946 (between atoms 49068 and 49070)\n",
      "bonds that rotated more than 30 degrees:\n",
      " atom 1 atom 2  angle  previous, current, constraint length\n",
      "  49068  49069   44.0    0.1129   0.1082      0.1111\n",
      "  49068  49070   43.3    0.1103   0.1142      0.1111\n",
      "\n",
      "Step 66, time 0.066 (ps)  LINCS WARNING\n",
      "relative constraint deviation after LINCS:\n",
      "rms 0.000406, max 0.063475 (between atoms 49068 and 49069)\n",
      "bonds that rotated more than 30 degrees:\n",
      " atom 1 atom 2  angle  previous, current, constraint length\n",
      "  53082  53084   33.9    0.1114   0.1118      0.1111\n",
      "  49065  49067   31.2    0.1111   0.1113      0.1111\n",
      "  53091  53092   41.8    0.1100   0.1100      0.1100\n",
      "  49068  49069   63.9    0.1082   0.1182      0.1111\n",
      "  49068  49070   55.4    0.1142   0.1145      0.1111\n",
      "\n",
      "Step 67, time 0.067 (ps)  LINCS WARNING\n",
      "relative constraint deviation after LINCS:\n",
      "rms 0.000773, max 0.135801 (between atoms 49065 and 49067)\n",
      "bonds that rotated more than 30 degrees:\n",
      " atom 1 atom 2  angle  previous, current, constraint length\n",
      "  49071  49072   47.4    0.1100   0.1100      0.1100\n",
      "  49065  49066   86.1    0.1118   0.1108      0.1111\n",
      "  49065  49067   79.7    0.1113   0.1262      0.1111\n",
      "  53085  53086   31.7    0.1113   0.1112      0.1111\n",
      "  53085  53087   34.4    0.1114   0.1125      0.1111\n",
      "  53091  53092   57.8    0.1100   0.1100      0.1100\n",
      "  49068  49069   37.2    0.1182   0.1111      0.1111\n",
      "  49068  49070   40.7    0.1145   0.1134      0.1111\n",
      "\n",
      "Step 68, time 0.068 (ps)  LINCS WARNING\n",
      "relative constraint deviation after LINCS:\n",
      "rms 0.001280, max 0.226970 (between atoms 49071 and 49072)\n",
      "bonds that rotated more than 30 degrees:\n",
      " atom 1 atom 2  angle  previous, current, constraint length\n",
      "  49071  49072   90.0    0.1100   0.1350      0.1100\n",
      "  53082  53083   34.2    0.1115   0.1098      0.1111\n",
      "  53082  53084   30.5    0.1113   0.1139      0.1111\n",
      "\n",
      "Step 69, time 0.069 (ps)  LINCS WARNING\n",
      "relative constraint deviation after LINCS:\n",
      "rms 0.001157, max 0.206709 (between atoms 53093 and 53094)\n",
      "bonds that rotated more than 30 degrees:\n",
      " atom 1 atom 2  angle  previous, current, constraint length\n",
      "  49071  49072   67.9    0.1350   0.1100      0.1100\n",
      "  53091  53092   49.5    0.1100   0.1100      0.1100\n",
      "  53093  53094   90.0    0.1100   0.1327      0.1100\n",
      "\n",
      "Step 70, time 0.07 (ps)  LINCS WARNING\n",
      "relative constraint deviation after LINCS:\n",
      "rms 0.000003, max 0.000221 (between atoms 49068 and 49069)\n",
      "bonds that rotated more than 30 degrees:\n",
      " atom 1 atom 2  angle  previous, current, constraint length\n",
      "  53093  53094   37.1    0.1100   0.1100      0.1100\n",
      "\n",
      "Step 71, time 0.071 (ps)  LINCS WARNING\n",
      "relative constraint deviation after LINCS:\n",
      "rms 0.000080, max 0.011459 (between atoms 49065 and 49066)\n",
      "bonds that rotated more than 30 degrees:\n",
      " atom 1 atom 2  angle  previous, current, constraint length\n",
      "  49071  49072   57.6    0.1100   0.1100      0.1100\n",
      "  49065  49066   35.5    0.1111   0.1124      0.1111\n",
      "  49065  49067   34.2    0.1111   0.1111      0.1111\n",
      "  53093  53094   59.1    0.1100   0.1100      0.1100\n",
      "\n",
      "Step 72, time 0.072 (ps)  LINCS WARNING\n",
      "relative constraint deviation after LINCS:\n",
      "rms 0.000464, max 0.058175 (between atoms 53085 and 53087)\n",
      "bonds that rotated more than 30 degrees:\n",
      " atom 1 atom 2  angle  previous, current, constraint length\n",
      "  49071  49072   49.2    0.1100   0.1100      0.1100\n",
      "  53085  53086   39.5    0.1111   0.1175      0.1111\n",
      "  53085  53087   39.0    0.1111   0.1176      0.1111\n",
      "  49068  49069   34.1    0.1110   0.1107      0.1111\n",
      "\n",
      "Step 73, time 0.073 (ps)  LINCS WARNING\n",
      "relative constraint deviation after LINCS:\n",
      "rms 0.001344, max 0.239527 (between atoms 53093 and 53094)\n",
      "bonds that rotated more than 30 degrees:\n",
      " atom 1 atom 2  angle  previous, current, constraint length\n",
      "  53085  53086   44.9    0.1175   0.1099      0.1111\n",
      "  53085  53087   44.8    0.1176   0.1099      0.1111\n",
      "  53093  53094   90.0    0.1100   0.1363      0.1100\n",
      "\n",
      "Step 74, time 0.074 (ps)  LINCS WARNING\n",
      "relative constraint deviation after LINCS:\n",
      "rms 0.002339, max 0.360292 (between atoms 53147 and 53148)\n",
      "bonds that rotated more than 30 degrees:\n",
      " atom 1 atom 2  angle  previous, current, constraint length\n",
      "  49071  49072   51.7    0.1100   0.1100      0.1100\n",
      "  53093  53094   90.0    0.1363   0.1317      0.1100\n",
      "  53147  53148   90.0    0.1111   0.1511      0.1111\n",
      "\n",
      "Step 75, time 0.075 (ps)  LINCS WARNING\n",
      "relative constraint deviation after LINCS:\n",
      "rms 0.000118, max 0.015550 (between atoms 53147 and 53149)\n",
      "bonds that rotated more than 30 degrees:\n",
      " atom 1 atom 2  angle  previous, current, constraint length\n",
      "  53093  53094   36.8    0.1363   0.1100      0.1100\n",
      "  53147  53148   40.1    0.1111   0.1127      0.1111\n",
      "\n",
      "Step 76, time 0.076 (ps)  LINCS WARNING\n",
      "relative constraint deviation after LINCS:\n",
      "rms 0.000300, max 0.039647 (between atoms 53147 and 53148)\n",
      "bonds that rotated more than 30 degrees:\n",
      " atom 1 atom 2  angle  previous, current, constraint length\n",
      "  53082  53083   37.7    0.1111   0.1130      0.1111\n",
      "  53082  53084   32.0    0.1112   0.1095      0.1111\n",
      "  53093  53094   40.6    0.1100   0.1100      0.1100\n",
      "  53091  53092   38.0    0.1100   0.1100      0.1100\n",
      "  53147  53148   61.0    0.1127   0.1067      0.1111\n",
      "  53150  53151   35.8    0.1111   0.1114      0.1111\n",
      "\n",
      "Step 77, time 0.077 (ps)  LINCS WARNING\n",
      "relative constraint deviation after LINCS:\n",
      "rms 0.001051, max 0.141458 (between atoms 53091 and 53092)\n",
      "bonds that rotated more than 30 degrees:\n",
      " atom 1 atom 2  angle  previous, current, constraint length\n",
      "  53082  53084   42.3    0.1095   0.1111      0.1111\n",
      "  53093  53094   90.0    0.1100   0.1233      0.1100\n",
      "  53091  53092   90.0    0.1100   0.1256      0.1100\n",
      "  53088  53089   31.4    0.1110   0.1122      0.1111\n",
      "\n",
      "Step 78, time 0.078 (ps)  LINCS WARNING\n",
      "relative constraint deviation after LINCS:\n",
      "rms 0.003016, max 0.357735 (between atoms 53088 and 53090)\n",
      "bonds that rotated more than 30 degrees:\n",
      " atom 1 atom 2  angle  previous, current, constraint length\n",
      "  49071  49072   55.5    0.1100   0.1100      0.1100\n",
      "  53088  53089   90.0    0.1122   0.1433      0.1111\n",
      "  53088  53090   90.0    0.1118   0.1508      0.1111\n",
      "  53091  53092   90.0    0.1256   0.1391      0.1100\n",
      "  53095  53096   69.2    0.1122   0.1182      0.1111\n",
      "  53095  53097   71.5    0.1123   0.1181      0.1111\n",
      "\n",
      "Step 79, time 0.079 (ps)  LINCS WARNING\n",
      "relative constraint deviation after LINCS:\n",
      "rms 0.002955, max 0.522651 (between atoms 49071 and 49072)\n",
      "bonds that rotated more than 30 degrees:\n",
      " atom 1 atom 2  angle  previous, current, constraint length\n",
      "  49071  49072   90.0    0.1100   0.1675      0.1100\n",
      "  49073  49074   41.4    0.1100   0.1100      0.1100\n",
      "  53082  53083   36.2    0.1111   0.1047      0.1111\n",
      "  53082  53084   49.3    0.1109   0.1160      0.1111\n",
      "  53095  53096   43.6    0.1182   0.1130      0.1111\n",
      "  53095  53097   37.2    0.1181   0.1113      0.1111\n",
      "Wrote pdb files with previous and current coordinates\n",
      "\n",
      "Step 80, time 0.08 (ps)  LINCS WARNING\n",
      "relative constraint deviation after LINCS:\n",
      "rms 0.000048, max 0.006488 (between atoms 53082 and 53083)\n",
      "bonds that rotated more than 30 degrees:\n",
      " atom 1 atom 2  angle  previous, current, constraint length\n",
      "  49071  49072   49.6    0.1100   0.1100      0.1100\n",
      "\n",
      "Step 81, time 0.081 (ps)  LINCS WARNING\n",
      "relative constraint deviation after LINCS:\n",
      "rms 0.000177, max 0.029046 (between atoms 53088 and 53089)\n",
      "bonds that rotated more than 30 degrees:\n",
      " atom 1 atom 2  angle  previous, current, constraint length\n",
      "  49071  49072   64.2    0.1100   0.1100      0.1100\n",
      "  53093  53094   58.2    0.1100   0.1100      0.1100\n",
      "  53088  53089   50.1    0.1111   0.1143      0.1111\n",
      "  53088  53090   39.6    0.1111   0.1098      0.1111\n",
      "  53091  53092   50.2    0.1100   0.1100      0.1100\n",
      "\n",
      "Step 82, time 0.082 (ps)  LINCS WARNING\n",
      "relative constraint deviation after LINCS:\n",
      "rms 0.000308, max 0.055022 (between atoms 49071 and 49072)\n",
      "bonds that rotated more than 30 degrees:\n",
      " atom 1 atom 2  angle  previous, current, constraint length\n",
      "  49071  49072   90.0    0.1100   0.1161      0.1100\n",
      "\n",
      "Step 83, time 0.083 (ps)  LINCS WARNING\n",
      "relative constraint deviation after LINCS:\n",
      "rms 0.002195, max 0.390830 (between atoms 49071 and 49072)\n",
      "bonds that rotated more than 30 degrees:\n",
      " atom 1 atom 2  angle  previous, current, constraint length\n",
      "  49071  49072   90.0    0.1161   0.1530      0.1100\n",
      "  53082  53083   40.0    0.1113   0.1109      0.1111\n",
      "  53091  53092   36.5    0.1100   0.1100      0.1100\n",
      "\n",
      "Step 84, time 0.084 (ps)  LINCS WARNING\n",
      "relative constraint deviation after LINCS:\n",
      "rms 0.003154, max 0.563570 (between atoms 49071 and 49072)\n",
      "bonds that rotated more than 30 degrees:\n",
      " atom 1 atom 2  angle  previous, current, constraint length\n",
      "  49071  49072   90.0    0.1530   0.1720      0.1100\n",
      "Wrote pdb files with previous and current coordinates\n",
      "\n",
      "Step 85, time 0.085 (ps)  LINCS WARNING\n",
      "relative constraint deviation after LINCS:\n",
      "rms 0.000004, max 0.000286 (between atoms 53085 and 53087)\n",
      "bonds that rotated more than 30 degrees:\n",
      " atom 1 atom 2  angle  previous, current, constraint length\n",
      "  49071  49072   51.4    0.1530   0.1100      0.1100\n",
      "\n",
      "Step 86, time 0.086 (ps)  LINCS WARNING\n",
      "relative constraint deviation after LINCS:\n",
      "rms 0.001997, max 0.270329 (between atoms 49068 and 49070)\n",
      "bonds that rotated more than 30 degrees:\n",
      " atom 1 atom 2  angle  previous, current, constraint length\n",
      "  49071  49072   65.1    0.1100   0.1100      0.1100\n",
      "  49073  49074   36.1    0.1100   0.1100      0.1100\n",
      "  53085  53086   44.7    0.1111   0.1089      0.1111\n",
      "  53085  53087   44.0    0.1111   0.1126      0.1111\n",
      "  53088  53089   34.6    0.1111   0.1136      0.1111\n",
      "  53088  53090   31.1    0.1111   0.1115      0.1111\n",
      "  49068  49069   90.0    0.1111   0.1367      0.1111\n",
      "  49068  49070   90.0    0.1111   0.1411      0.1111\n",
      "  53091  53092   32.1    0.1100   0.1100      0.1100\n",
      "\n",
      "Step 87, time 0.087 (ps)  LINCS WARNING\n",
      "relative constraint deviation after LINCS:\n",
      "rms 0.001253, max 0.151111 (between atoms 49071 and 49072)\n",
      "bonds that rotated more than 30 degrees:\n",
      " atom 1 atom 2  angle  previous, current, constraint length\n",
      "  49071  49072   90.0    0.1100   0.1266      0.1100\n",
      "  49073  49074   34.9    0.1100   0.1100      0.1100\n",
      "  53085  53086   36.3    0.1089   0.1126      0.1111\n",
      "  53088  53089   64.7    0.1136   0.1193      0.1111\n",
      "  53088  53090   64.8    0.1115   0.1228      0.1111\n",
      "  49068  49069   68.9    0.1367   0.1180      0.1111\n",
      "  49068  49070   66.7    0.1411   0.1201      0.1111\n",
      "  53091  53092   71.1    0.1100   0.1100      0.1100\n",
      "\n",
      "Step 88, time 0.088 (ps)  LINCS WARNING\n",
      "relative constraint deviation after LINCS:\n",
      "rms 0.000083, max 0.008586 (between atoms 53088 and 53090)\n",
      "bonds that rotated more than 30 degrees:\n",
      " atom 1 atom 2  angle  previous, current, constraint length\n",
      "  49071  49072   35.1    0.1100   0.1100      0.1100\n",
      "\n",
      "Step 89, time 0.089 (ps)  LINCS WARNING\n",
      "relative constraint deviation after LINCS:\n",
      "rms 0.000011, max 0.001439 (between atoms 49068 and 49070)\n",
      "bonds that rotated more than 30 degrees:\n",
      " atom 1 atom 2  angle  previous, current, constraint length\n",
      "  49071  49072   36.8    0.1100   0.1100      0.1100\n",
      "\n",
      "Step 90, time 0.09 (ps)  LINCS WARNING\n",
      "relative constraint deviation after LINCS:\n",
      "rms 0.000080, max 0.010783 (between atoms 49068 and 49069)\n",
      "bonds that rotated more than 30 degrees:\n",
      " atom 1 atom 2  angle  previous, current, constraint length\n",
      "  49071  49072   70.9    0.1100   0.1100      0.1100\n",
      "  53085  53086   32.0    0.1111   0.1104      0.1111\n",
      "  53085  53087   33.6    0.1112   0.1114      0.1111\n",
      "  49068  49069   46.9    0.1112   0.1123      0.1111\n",
      "  49068  49070   44.3    0.1113   0.1118      0.1111\n",
      "\n",
      "Step 91, time 0.091 (ps)  LINCS WARNING\n",
      "relative constraint deviation after LINCS:\n",
      "rms 0.000048, max 0.006651 (between atoms 53082 and 53083)\n",
      "bonds that rotated more than 30 degrees:\n",
      " atom 1 atom 2  angle  previous, current, constraint length\n",
      "  49071  49072   64.5    0.1100   0.1100      0.1100\n",
      "\n",
      "Step 92, time 0.092 (ps)  LINCS WARNING\n",
      "relative constraint deviation after LINCS:\n",
      "rms 0.000010, max 0.001350 (between atoms 54125 and 54127)\n",
      "bonds that rotated more than 30 degrees:\n",
      " atom 1 atom 2  angle  previous, current, constraint length\n",
      "  49071  49072   37.2    0.1100   0.1100      0.1100\n",
      "\n",
      "Step 193, time 0.193 (ps)  LINCS WARNING\n",
      "relative constraint deviation after LINCS:\n",
      "rms 0.000202, max 0.026667 (between atoms 33229 and 33230)\n",
      "bonds that rotated more than 30 degrees:\n",
      " atom 1 atom 2  angle  previous, current, constraint length\n",
      "  33229  33230   41.5    0.1113   0.1141      0.1111\n",
      "  33229  33231   43.1    0.1112   0.1130      0.1111\n",
      "  33224  33225   46.5    0.1111   0.1111      0.1111\n",
      "  33232  33233   36.5    0.1111   0.1125      0.1111\n",
      "  33232  33234   35.6    0.1111   0.1124      0.1111\n",
      "\n",
      "writing lowest energy coordinates.\n",
      "\n",
      "Steepest Descents converged to Fmax < 1000 in 2823 steps\n",
      "Potential Energy  = -1.5639365e+06\n",
      "Maximum force     =  9.7581628e+02 on atom 38587\n",
      "Norm of force     =  1.0855692e+01\n",
      "\n",
      "GROMACS reminds you: \"Give someone a program, you frustrate them for a day; teach them how to program, you frustrate them for a lifetime.\" (David Leinweber)\n",
      "\n"
     ]
    }
   ],
   "source": [
    "!gmx mdrun -deffnm minimisation"
   ]
  },
  {
   "cell_type": "code",
   "execution_count": 100,
   "id": "214aebfd-064b-4470-b483-f50b8ef7ac63",
   "metadata": {},
   "outputs": [
    {
     "name": "stdout",
     "output_type": "stream",
     "text": [
      "./minimisation.tpr\n",
      "./minimisation.gro\n",
      "./minimisation.log\n",
      "./minimisation.edr\n",
      "./minimisation.trr\n"
     ]
    }
   ],
   "source": [
    "# Check whether all files are generated\n",
    "!find . -name \"minimisation*\""
   ]
  },
  {
   "cell_type": "code",
   "execution_count": 103,
   "id": "2583bd28-28cb-49fd-8b34-8f1a3aea0736",
   "metadata": {},
   "outputs": [
    {
     "name": "stdout",
     "output_type": "stream",
     "text": [
      "           Bond            U-B    Proper Dih.  Improper Dih.      CMAP Dih.\n",
      "    6.51483e+03    3.99347e+04    1.09390e+05    8.82424e+02   -4.51542e+03\n",
      "          LJ-14     Coulomb-14        LJ (SR)   Coulomb (SR)   Coul. recip.\n",
      "    2.18926e+04    1.27175e+05    8.29306e+04   -1.96607e+06    1.79287e+04\n",
      "      Potential Pressure (bar)   Constr. rmsd\n",
      "   -1.56394e+06   -2.61203e+03    2.89703e-06\n",
      "\n",
      "\n",
      "Steepest Descents converged to Fmax < 1000 in 2823 steps\n",
      "Potential Energy  = -1.5639365e+06\n",
      "Maximum force     =  9.7581628e+02 on atom 38587\n",
      "Norm of force     =  1.0855692e+01\n",
      "\n",
      "    D O M A I N   D E C O M P O S I T I O N   S T A T I S T I C S\n",
      "\n",
      " av. #atoms communicated per step for force:  2 x 0.0\n",
      "\n",
      "Finished mdrun on rank 0 Thu Jun  5 16:04:19 2025\n",
      "\n"
     ]
    }
   ],
   "source": [
    "# Check whether requirements are satisfied \n",
    "!tail -19 minimisation.log"
   ]
  },
  {
   "cell_type": "code",
   "execution_count": 110,
   "id": "e3a5e899-b3f9-4407-8981-98584c5db6da",
   "metadata": {},
   "outputs": [
    {
     "data": {
      "application/vnd.jupyter.widget-view+json": {
       "model_id": "d889e176fbcc4806b5a902bd6c2959d1",
       "version_major": 2,
       "version_minor": 0
      },
      "text/plain": [
       "NGLWidget()"
      ]
     },
     "metadata": {},
     "output_type": "display_data"
    }
   ],
   "source": [
    "# View minimised strucutre\n",
    "view = ng.show_structure_file(f\"minimisation.gro\")\n",
    "## Lipids\n",
    "view.add_representation(\"ball+stick\",selection=\"POPC\")\n",
    "## water\n",
    "view.add_representation(\"licorice\",selection=\"TIP3P\", opacity=0.9)\n",
    "view.center()\n",
    "view\n",
    "#Click and drag to rotate, zoom with your mouse wheel \n",
    "#For more information on this viewer have a look at https://github.com/nglviewer/nglview"
   ]
  },
  {
   "cell_type": "code",
   "execution_count": null,
   "id": "2ae14489-813e-499d-9db2-59cd5db28557",
   "metadata": {},
   "outputs": [],
   "source": [
    "# View convergence of energy\n",
    "!printf \"Potential\\n0\\n\" | gmx energy -f minimisation.edr -o potential.xvg -xvg none"
   ]
  },
  {
   "cell_type": "code",
   "execution_count": 114,
   "id": "d9eec38f-cc86-4398-8f44-052960081d8d",
   "metadata": {},
   "outputs": [
    {
     "name": "stderr",
     "output_type": "stream",
     "text": [
      "<>:1: SyntaxWarning: invalid escape sequence '\\s'\n",
      "<>:1: SyntaxWarning: invalid escape sequence '\\s'\n",
      "/var/folders/br/2ygwq5cd58q90bxlwkl2zz580000gn/T/ipykernel_2600/4006702720.py:1: SyntaxWarning: invalid escape sequence '\\s'\n",
      "  df = pd.read_csv('potential.xvg', sep='\\s+', header=None, names=['step','energy(kJ Mol-1)'])\n"
     ]
    },
    {
     "data": {
      "text/plain": [
       "<Axes: xlabel='step'>"
      ]
     },
     "execution_count": 114,
     "metadata": {},
     "output_type": "execute_result"
    },
    {
     "data": {
      "image/png": "[encoded data removed]",
      "text/plain": [
       "<Figure size 640x480 with 1 Axes>"
      ]
     },
     "metadata": {},
     "output_type": "display_data"
    }
   ],
   "source": [
    "df = pd.read_csv('potential.xvg', sep='\\s+', header=None, names=['step','energy(kJ Mol-1)'])\n",
    "df.plot('step')"
   ]
  },
  {
   "cell_type": "markdown",
   "id": "3d2dd6c2-22ea-4ee7-a673-b9f7a398721d",
   "metadata": {},
   "source": [
    "# 5. Equilibration run - NVT\n",
    "**Position restraints**\n",
    "- Avoid drastic rearrangements of critical parts (e.g. to restrain motion in a protein that is subjected to large solvent forces when the solvent is not yet equilibrated)\n",
    "- Atoms are harmonically restrained to a plane or a line $$V_{pr}(\\mathbf{r}_i) = {\\frac{1}{2}}k_{pr}|\\mathbf{r}_i-\\mathbf{R}_i|^2$$$$\\begin{split}\\begin{array}{rcl}\n",
    "F_i^x &=& -k_{pr}^x~(x_i - X_i) \\\\\n",
    "F_i^y &=& -k_{pr}^y~(y_i - Y_i) \\\\\n",
    "F_i^z &=& -k_{pr}^z~(z_i - Z_i)\n",
    "\\end{array}\\end{split}$$\n",
    "- Applied to a special fixed list of atoms, usually generated by `pdb2gmx`\n",
    "- Critical for membrane proteins, not so much for free proteins\n",
    "- Other types of restraints: Flat-bottomed position restraints, angle restraints, dihedral restraints, distance restraints, more details can be found [here](https://manual.gromacs.org/documentation/2024.4/reference-manual/functions/restraints.html)"
   ]
  },
  {
   "cell_type": "code",
   "execution_count": 6,
   "id": "f06c7f63-3b75-4fb7-b0ed-c90e5677f09e",
   "metadata": {},
   "outputs": [
    {
     "name": "stdout",
     "output_type": "stream",
     "text": [
      ";;Preprocessing\n",
      "; title                   = NVT equilibration 1\n",
      "\n",
      "; Position restraints\n",
      ";;Preprocessing\n",
      "title                   = NVT equilibration 2\n",
      "define                  = -DPOSRES -DPOSRES_FC_BB=2000.0 -DPOSRES_FC_SC=1000.0 -DPOSRES_FC_LIPID=400.0 -DDIHRES -DDIHRES_FC=400.0\n",
      "\n",
      ";;Preprocessing\n",
      "title                   = NPT equilibration 1\n",
      "define                  = -DPOSRES -DPOSRES_FC_BB=1000.0 -DPOSRES_FC_SC=500.0 -DPOSRES_FC_LIPID=400.0 -DDIHRES -DDIHRES_FC=200.0\n",
      "\n",
      ";;Preprocessing\n",
      "title                   = NPT equilibration 2\n",
      "define                  = -DPOSRES -DPOSRES_FC_BB=500.0 -DPOSRES_FC_SC=200.0 -DPOSRES_FC_LIPID=200.0 -DDIHRES -DDIHRES_FC=200.0\n",
      "\n",
      ";;Preprocessing\n",
      "title                   = NPT equilibration 3\n",
      "define                  = -DPOSRES -DPOSRES_FC_BB=200.0 -DPOSRES_FC_SC=200.0 -DPOSRES_FC_LIPID=40.0 -DDIHRES -DDIHRES_FC=100.0\n",
      "\n",
      ";;Preprocessing\n",
      "title                   = NPT equilibration 4\n",
      "define                  = -DPOSRES -DPOSRES_FC_BB=100.0 -DPOSRES_FC_SC=100.0 -DPOSRES_FC_LIPID=0.0 -DDIHRES -DDIHRES_FC=0.0\n",
      "\n",
      ";;Preprocessing\n",
      "title                   = Production\n",
      "\n",
      ";; no position constraints\n"
     ]
    }
   ],
   "source": [
    "# restrainst \n",
    "!head -4 input/mdp/step6.1_equilibration_NVT_step1.mdp\n",
    "!head -4 input/mdp/step6.2_equilibration_NVT_step2.mdp\n",
    "!head -4 input/mdp/step6.3_equilibration_NPT_step1.mdp\n",
    "!head -4 input/mdp/step6.4_equilibration_NPT_step2.mdp\n",
    "!head -4 input/mdp/step6.5_equilibration_NPT_step3.mdp\n",
    "!head -4 input/mdp/step6.6_equilibration_NPT_step4.mdp\n",
    "!head -4 input/mdp/step7_production_revised.mdp"
   ]
  },
  {
   "cell_type": "markdown",
   "id": "bc875171-b43a-4242-9676-abaad2f74b2a",
   "metadata": {},
   "source": [
    "**Molecular dynamics parameters**\n",
    "\n",
    "- mdp file contains run parameters, generated from the topology file\n",
    "- define = -DPOSRES:  triggers the inclusion of `posre.itp` into the topology\n",
    "- mdp files for EM and NVT are not the same. The `integrator` has been updated to md\n",
    "- tcoupl = v-rescale: Temperature coupling, only in NVT, it is the modified version of Berendsen having a stochastic term that assures the generation of a correct canonical ensemble\n",
    "- tc_grps = SYSTEM: defines group according to the CHARMM-GUI index file\n",
    "\n",
    "|Group  |  Index | Molecules |\n",
    "|--|--|--\n",
    "|[ SOLU ]|1-19260|protein\n",
    "|[ MEMB ]| 19261-56378|POPC\n",
    "|[ SOLV ]| 56379-138195|ions and water\n",
    "|[ SOLU_MEMB ]|1-56378|protein and POPC\n",
    "|[ SYSTEM ]| 1-138195|whole\n",
    "\n",
    "- pcoupl = c-rescale: Pressure coupling, only in NPT. To keep the pressure stable, we turn the barostat on. Because Berendsen Barostat is outdated and Parrinello-Rahman is better to utilize 'only' in production runs when the structure is 'properly equilibrated', the c-rescale algorithm is appropriate for this part:\n",
    "- pcoupltype = semiisotropic: isotropic in the x and y directions but not in the z, and is suitable for membrane simulations"
   ]
  },
  {
   "cell_type": "code",
   "execution_count": 42,
   "id": "8d78afd2-c383-4b63-87f5-dcd6b776d786",
   "metadata": {},
   "outputs": [
    {
     "name": "stdout",
     "output_type": "stream",
     "text": [
      "integrator              = md       ; leap-frog algorithm for integrating Newton's equations of motion\n",
      "integrator              = steep       ; A steepest descent algorithm for energy minimization\n"
     ]
    }
   ],
   "source": [
    "# Different integrators\n",
    "!sed -n '8,8p'  step6.1_equilibration_NVT_step1.mdp\n",
    "!sed -n '7,7p'  step6.0_minimization.mdp"
   ]
  },
  {
   "cell_type": "markdown",
   "id": "ce505294-cdd3-4080-bcb5-6b257c462963",
   "metadata": {},
   "source": [
    "# NPT"
   ]
  },
  {
   "cell_type": "code",
   "execution_count": 44,
   "id": "fb7707f8-3dd1-4120-9f61-183077bea5b9",
   "metadata": {},
   "outputs": [
    {
     "name": "stdout",
     "output_type": "stream",
     "text": [
      ";;Temperature coupling \n",
      "tcoupl                  = v-rescale   ; Modified version of Berendsen thermostat, Temperature coupling using velocity rescaling with a stochastic term \n",
      "tc_grps                 = SYSTEM      ; Coupling groups \n",
      "tau_t                   = 1.0         ; Time constant [ps]\n",
      "ref_t                   = 300         ; Reference temperature [K]\n",
      "\n",
      ";;Velocity generation\n",
      "gen-vel                 = yes         ; Assign velocities from Maxwell distribution\n",
      "gen-temp                = 300         ; Temperature for Maxwell distribution\n",
      "gen-seed                = -1          ; Generate a random seed\n",
      "\n",
      "\n",
      ";;Pressure coupling is off\n",
      "pcoupl      = no                      ; No pressure coupling in NVT\n"
     ]
    }
   ],
   "source": [
    "# Temperature coupling section in NVT\n",
    "!sed -n '42,55p' step6.1_equilibration_NVT_step1.mdp"
   ]
  },
  {
   "cell_type": "code",
   "execution_count": 47,
   "id": "5c688756-cbe5-4a1a-aae7-5ae48e46f1d9",
   "metadata": {},
   "outputs": [
    {
     "name": "stdout",
     "output_type": "stream",
     "text": [
      "                :-) GROMACS - gmx make_ndx, 2025.1-Homebrew (-:\n",
      "\n",
      "Executable:   /opt/homebrew/bin/../Cellar/gromacs/2025.1/bin/gmx\n",
      "Data prefix:  /opt/homebrew/bin/../Cellar/gromacs/2025.1\n",
      "Working dir:  /Users/heiley/Desktop/SURP/gromacs-tutorial/tutorial-2/run\n",
      "Command line:\n",
      "  gmx make_ndx -f step5_input.pdb -n index.ndx -o\n",
      "\n",
      "\n",
      "Reading structure file\n",
      "Going to read 1 old index file(s)\n",
      "\n",
      "  0 SOLU                : 19260 atoms\n",
      "  1 MEMB                : 37118 atoms\n",
      "  2 SOLV                : 81817 atoms\n",
      "  3 SOLU_MEMB           : 56378 atoms\n",
      "  4 SYSTEM              : 138195 atoms\n",
      "\n",
      " nr : group      '!': not  'name' nr name   'splitch' nr    Enter: list groups\n",
      " 'a': atom       '&': and  'del' nr         'splitres' nr   'l': list residues\n",
      " 't': atom type  '|': or   'keep' nr        'splitat' nr    'h': help\n",
      " 'r': residue              'res' nr         'chain' char\n",
      " \"name\": group             'case': case sensitive           'q': save and quit\n",
      " 'ri': residue index\n",
      "\n",
      "> \n",
      "\n",
      "Back Off! I just backed up index.ndx to ./#index.ndx.1#\n",
      "\n",
      "GROMACS reminds you: \"I am at two with nature.\" (Woody Allen)\n",
      "\n"
     ]
    }
   ],
   "source": [
    "!printf \"q\\n\" | gmx make_ndx -f step5_input.pdb -n index.ndx -o"
   ]
  },
  {
   "cell_type": "markdown",
   "id": "38134db6-8ca9-4f3b-b46f-1ca63b1abdcd",
   "metadata": {},
   "source": [
    "**.itp file**\n",
    "\n",
    "- include topology file\n",
    "- generated from pdb2gmx\n",
    "- directed from .top files when generating .mdp\n",
    "- \\[position_restraints]\n",
    "    - POSRES_FC_BB: restraints apply to protein back bone\n",
    "    - POSRES_FC_SC: restraints apply to protein side chain\n",
    "\n",
    "**Position restraints on protein**\n",
    "- From itp and top file, the 1st and 5th atoms are N and CA protein backbone atoms of the first residue, respectively, and the value is defined by POSRES_FC_BB in PROA.itp file\n",
    "- 7th and 9th are atom indexes of CB and CG which belong to the protein side chain and specify with POSRES_FC_SC\n",
    "\n",
    "**Restraints on lipid**\n",
    "- The P atoms of the lipid headgroups are constrained by DPOSRES_FC_LIPID. As the value is only determined for the Z direction, POPC lipid molecules can only move in the X-Y plane of the bilayer, maintaining the bilayer’s thickness. i is the atom index of the P atom of the first POPC\n",
    "- In POPC lipid molecules, two dihedral angles are typically restrained to preserve the cis-isomer. Here, the angles formed by C1-C3-C2-O21 and C28-C29-C210-C211 atoms are described by the atom indexes of the first POPC 25-36-28-30 and 60-63-65-67, respectively, and the value is defined by DIHRES_FC"
   ]
  },
  {
   "cell_type": "code",
   "execution_count": 118,
   "id": "276f9932-86c4-4cf7-a153-7656a98ea439",
   "metadata": {},
   "outputs": [
    {
     "name": "stdout",
     "output_type": "stream",
     "text": [
      ";; The main GROMACS topology file\n",
      ";;\n",
      "\n",
      "; Include forcefield parameters\n",
      "#include \"toppar/forcefield.itp\"\n",
      "#include \"toppar/PROA.itp\"\n",
      "#include \"toppar/PROB.itp\"\n",
      "#include \"toppar/PROC.itp\"\n",
      "#include \"toppar/POPC.itp\"\n",
      "#include \"toppar/SOD.itp\"\n",
      "#include \"toppar/CLA.itp\"\n",
      "#include \"toppar/TIP3.itp\"\n",
      "\n",
      "[ system ]\n",
      "; Name\n",
      "Title\n",
      "\n",
      "[ molecules ]\n",
      "; Compound\t#mols\n",
      "PROA  \t           1\n",
      "PROB  \t           1\n",
      "PROC  \t           1\n",
      "POPC  \t         277\n",
      "SOD   \t         131\n",
      "CLA   \t          74\n",
      "TIP3  \t       27204\n",
      "#ifdef POSRES\n",
      "[ position_restraints ]\n",
      "; The backbone and side chains of the protein are restrained.\n",
      ";   i    func     fcx             fcy               fcz\n",
      "    1     1    POSRES_FC_BB    POSRES_FC_BB    POSRES_FC_BB   \n",
      "    5     1    POSRES_FC_BB    POSRES_FC_BB    POSRES_FC_BB   \n",
      "    7     1    POSRES_FC_SC    POSRES_FC_SC    POSRES_FC_SC   \n",
      "    9     1    POSRES_FC_SC    POSRES_FC_SC    POSRES_FC_SC   \n",
      "   13     1    POSRES_FC_SC    POSRES_FC_SC    POSRES_FC_SC   \n",
      "   17     1    POSRES_FC_BB    POSRES_FC_BB    POSRES_FC_BB   \n",
      "   18     1    POSRES_FC_BB    POSRES_FC_BB    POSRES_FC_BB   \n",
      "   19     1    POSRES_FC_BB    POSRES_FC_BB    POSRES_FC_BB   \n",
      "   21     1    POSRES_FC_BB    POSRES_FC_BB    POSRES_FC_BB   \n",
      "   23     1    POSRES_FC_SC    POSRES_FC_SC    POSRES_FC_SC   \n",
      "   26     1    POSRES_FC_SC    POSRES_FC_SC    POSRES_FC_SC   \n",
      "   27     1    POSRES_FC_SC    POSRES_FC_SC    POSRES_FC_SC   \n",
      "   28     1    POSRES_FC_SC    POSRES_FC_SC    POSRES_FC_SC   \n",
      "   29     1    POSRES_FC_BB    POSRES_FC_BB    POSRES_FC_BB   \n",
      "   30     1    POSRES_FC_BB    POSRES_FC_BB    POSRES_FC_BB   \n",
      "ATOM      1  N   VAL     1      64.476  58.826  38.509  1.00  0.00      PROA N\n",
      "ATOM      2  HT1 VAL     1      64.537  58.007  37.867  1.00  0.00      PROA H\n",
      "ATOM      3  HT2 VAL     1      65.340  59.405  38.424  1.00  0.00      PROA H\n",
      "ATOM      4  HT3 VAL     1      63.622  59.372  38.285  1.00  0.00      PROA H\n",
      "ATOM      5  CA  VAL     1      64.370  58.316  39.907  1.00  0.00      PROA C\n",
      "ATOM      6  HA  VAL     1      65.374  58.227  40.299  1.00  0.00      PROA H\n",
      "ATOM      7  CB  VAL     1      63.544  59.304  40.762  1.00  0.00      PROA C\n",
      "ATOM      8  HB  VAL     1      63.746  60.355  40.437  1.00  0.00      PROA H\n",
      "ATOM      9  CG1 VAL     1      62.027  59.057  40.688  1.00  0.00      PROA C\n",
      "ATOM     10 HG11 VAL     1      61.767  58.105  41.205  1.00  0.00      PROA H\n"
     ]
    }
   ],
   "source": [
    "# Read itp file included from top file\n",
    "!sed -n '7,33p'  ../input/charmm-gui-1MAL/gromacs/topol.top\n",
    "\n",
    "# Read position restraints from itp file\n",
    "!sed -n '59914,59932p'  ../input/charmm-gui-1MAL/gromacs/toppar/PROA.itp\n",
    "\n",
    "# Read the respective atoms from the original pdb file\n",
    "!head -n 10 ../input/charmm-gui-1MAL/gromacs/step5_input.pdb"
   ]
  },
  {
   "cell_type": "code",
   "execution_count": 24,
   "id": "a175367a-fe54-45e6-9dd8-9d1e82df2938",
   "metadata": {},
   "outputs": [
    {
     "name": "stdout",
     "output_type": "stream",
     "text": [
      "#ifdef POSRES\n",
      "[ position_restraints ]\n",
      "; Lipid P atoms are restrained in the xy plane:\n",
      ";  i    func    fcx             fcy                 fcz\n",
      "   20     1     0.0             0.0            POSRES_FC_LIPID\n",
      "#endif\n",
      "#ifdef DIHRES\n",
      "[ dihedral_restraints ]\n",
      "   25    36    28    30     1   -120.0      2.5       DIHRES_FC\n",
      "   60    63    65    67     1      0.0      0.0       DIHRES_FC\n",
      "#endif\n"
     ]
    }
   ],
   "source": [
    "# Position restraints on lipid molecules (only in z-direction\n",
    "!sed -n '1271,1276p'  input/charmm-gui-1MAL/gromacs/toppar/POPC.itp\n",
    "\n",
    "# Position restraints on lipid molecules (only in z-direction\n",
    "!sed -n '1278,1285p'  input/charmm-gui-1MAL/gromacs/toppar/POPC.itp"
   ]
  },
  {
   "cell_type": "markdown",
   "id": "bf240bde-38eb-4729-bf84-37181a6c5d78",
   "metadata": {},
   "source": [
    "**Step 1**\n",
    "\n",
    "To perform NVT equilibration we need two steps. In each step we will remove the restraints gradually to avoid undesired change in system size and conformation. "
   ]
  },
  {
   "cell_type": "code",
   "execution_count": 51,
   "id": "0f32a8a3-aaa7-4180-a479-a694970f913e",
   "metadata": {},
   "outputs": [
    {
     "name": "stdout",
     "output_type": "stream",
     "text": [
      ";;Preprocessing\n",
      "; title                   = NVT equilibration 1\n",
      "\n",
      "; Position restraints\n",
      "define                  = -DPOSRES -DPOSRES_FC_BB=4000.0 -DPOSRES_FC_SC=2000.0 -DPOSRES_FC_LIPID=1000.0 -DDIHRES -DDIHRES_FC=1000.0 \n",
      "\n",
      ";;Preprocessing\n",
      "title                   = NVT equilibration 2\n",
      "define                  = -DPOSRES -DPOSRES_FC_BB=2000.0 -DPOSRES_FC_SC=1000.0 -DPOSRES_FC_LIPID=400.0 -DDIHRES -DDIHRES_FC=400.0\n",
      "\n"
     ]
    }
   ],
   "source": [
    "# Difference between two steps\n",
    "!head -6 step6.1_equilibration_NVT_step1.mdp\n",
    "!head -4 step6.2_equilibration_NVT_step2.mdp"
   ]
  },
  {
   "cell_type": "code",
   "execution_count": null,
   "id": "60e8efc3-56bf-4ffb-bd69-9c0bbe53cc99",
   "metadata": {},
   "outputs": [],
   "source": [
    "# Generate binary (.tpr) file\n",
    "!gmx grompp -f step6.1_equilibration_NVT_step1.mdp -o step6.1_equilibration_NVT_step1.tpr -c minimisation.gro -r step5_input.gro -p topol.top -n index.ndx"
   ]
  },
  {
   "cell_type": "code",
   "execution_count": 21,
   "id": "81f218b3-c14d-472b-b138-f14bd050a63e",
   "metadata": {},
   "outputs": [
    {
     "name": "stdout",
     "output_type": "stream",
     "text": [
      "                  :-) GROMACS - gmx mdrun, 2025.1-Homebrew (-:\n",
      "\n",
      "Executable:   /opt/homebrew/bin/../Cellar/gromacs/2025.1/bin/gmx\n",
      "Data prefix:  /opt/homebrew/bin/../Cellar/gromacs/2025.1\n",
      "Working dir:  /Users/heiley/Downloads/gromacs-tutorial/tutorial-2/run\n",
      "Command line:\n",
      "  gmx mdrun -v -deffnm step6.1_equilibration_NVT_step1\n",
      "\n",
      "\n",
      "Back Off! I just backed up step6.1_equilibration_NVT_step1.log to ./#step6.1_equilibration_NVT_step1.log.1#\n",
      "Reading file step6.1_equilibration_NVT_step1.tpr, VERSION 2025.1-Homebrew (single precision)\n",
      "Changing nstlist from 20 to 100, rlist from 1.2 to 1.257\n",
      "\n",
      "Using 1 MPI thread\n",
      "Using 8 OpenMP threads \n",
      "\n",
      "\n",
      "Back Off! I just backed up step6.1_equilibration_NVT_step1.xtc to ./#step6.1_equilibration_NVT_step1.xtc.1#\n",
      "\n",
      "Back Off! I just backed up step6.1_equilibration_NVT_step1.edr to ./#step6.1_equilibration_NVT_step1.edr.1#\n",
      "starting mdrun 'Title'\n",
      "150000 steps,    150.0 ps.\n",
      "step 149900, remaining wall clock time:    25 s          ish Sun Jun  8 02:20:19 2025, will finish Sun Jun  8 13:20:01 2025, will finish Sun Jun  8 11:23:50 2025, will finish Sun Jun  8 11:00:41 2025, will finish Sun Jun  8 09:25:00 2025, will finish Sun Jun  8 09:15:19 2025, will finish Sun Jun  8 08:50:25 2025, will finish Sun Jun  8 08:33:41 2025, will finish Sun Jun  8 08:29:40 2025Sun Jun  8 07:46:24 2025Sun Jun  8 07:43:20 2025Sun Jun  8 07:37:34 2025, will finish Sun Jun  8 07:32:10 2025, will finish Sun Jun  8 07:14:10 2025, will finish Sun Jun  8 07:02:54 2025, will finish Sun Jun  8 07:00:21 2025Sun Jun  8 06:28:17 2025, will finish Sun Jun  8 06:25:11 2025Sun Jun  8 06:22:36 2025Sun Jun  8 06:21:53 2025, will finish Sun Jun  8 06:16:01 2025, will finish Sun Jun  8 06:15:46 2025Sun Jun  8 06:02:00 2025Sun Jun  8 05:51:37 2025\n",
      "Writing final coordinates.\n",
      "step 150000, remaining wall clock time:     0 s          \n",
      "               Core t (s)   Wall t (s)        (%)\n",
      "       Time:   304418.565    38052.325      800.0\n",
      "                         10h34:12\n",
      "                 (ns/day)    (hour/ns)\n",
      "Performance:        0.341       70.467\n",
      "\n",
      "GROMACS reminds you: \"Come on boys, Let's push it hard\" (P.J. Harvey)\n",
      "\n"
     ]
    }
   ],
   "source": [
    "# Run NVT equilibration step 1\n",
    "!gmx mdrun -v -deffnm step6.1_equilibration_NVT_step1"
   ]
  },
  {
   "cell_type": "code",
   "execution_count": null,
   "id": "3672460d-9df0-4f0f-aeda-05b3e3752abd",
   "metadata": {},
   "outputs": [],
   "source": [
    "# Generate binary (.tpr) file\n",
    "!gmx grompp -f step6.2_equilibration_NVT_step2.mdp -o step6.2_equilibration_NVT_step2.tpr -c step6.1_equilibration_NVT_step1.gro -r step5_input.gro -p topol.top -n index.ndx"
   ]
  },
  {
   "cell_type": "code",
   "execution_count": 10,
   "id": "4dc8eea0-b07c-4412-ac62-ecf66b332176",
   "metadata": {},
   "outputs": [
    {
     "name": "stdout",
     "output_type": "stream",
     "text": [
      "                  :-) GROMACS - gmx mdrun, 2025.1-Homebrew (-:\n",
      "\n",
      "Executable:   /opt/homebrew/bin/../Cellar/gromacs/2025.1/bin/gmx\n",
      "Data prefix:  /opt/homebrew/bin/../Cellar/gromacs/2025.1\n",
      "Working dir:  /Users/heiley/Desktop/SURP/gromacs-tutorial/tutorial-2/run\n",
      "Command line:\n",
      "  gmx mdrun -v -deffnm step6.2_equilibration_NVT_step2\n",
      "\n",
      "Reading file step6.2_equilibration_NVT_step2.tpr, VERSION 2025.1-Homebrew (single precision)\n",
      "Changing nstlist from 20 to 100, rlist from 1.2 to 1.26\n",
      "\n",
      "Using 1 MPI thread\n",
      "Using 8 OpenMP threads \n",
      "\n",
      "starting mdrun 'Title'\n",
      "150000 steps,    150.0 ps.\n",
      "step 42200, will finish Wed Jun 11 19:35:16 2025^C\n",
      "\n",
      "\n",
      "Received the INT signal, stopping within 200 steps\n",
      "\n"
     ]
    }
   ],
   "source": [
    "# Run NVT equilibration step 2\n",
    "!gmx mdrun -v -deffnm step6.2_equilibration_NVT_step2"
   ]
  },
  {
   "cell_type": "markdown",
   "id": "19a68ded-ed3a-461d-957d-b3fc6f8e807c",
   "metadata": {},
   "source": [
    "**Evaluate temperature**\n",
    "\n",
    "It is crucial to evaluate every step to ensure that the simulation is going right. For this purpose, we should check the temperature using **gmx energy** tool. "
   ]
  },
  {
   "cell_type": "code",
   "execution_count": null,
   "id": "41e4deff-07ec-47bf-9143-ba72aa1933e8",
   "metadata": {},
   "outputs": [],
   "source": [
    "# Obtain and plot the evolution of energy\n",
    "!echo 17|gmx energy -f step6.2_equilibration_NVT_step2.edr -o  NVT_S2-temp.xvg -xvg none"
   ]
  },
  {
   "cell_type": "code",
   "execution_count": 121,
   "id": "f41e1126-036a-4246-be22-f7f2b55480d4",
   "metadata": {},
   "outputs": [
    {
     "name": "stderr",
     "output_type": "stream",
     "text": [
      "<>:1: SyntaxWarning: invalid escape sequence '\\s'\n",
      "<>:1: SyntaxWarning: invalid escape sequence '\\s'\n",
      "/var/folders/br/2ygwq5cd58q90bxlwkl2zz580000gn/T/ipykernel_2600/3543608712.py:1: SyntaxWarning: invalid escape sequence '\\s'\n",
      "  df = pd.read_csv('NVT_S2-temp.xvg', sep='\\s+', header=None, names=['time (ps)','temperature (K)'])\n"
     ]
    },
    {
     "data": {
      "text/plain": [
       "<Axes: xlabel='time (ps)'>"
      ]
     },
     "execution_count": 121,
     "metadata": {},
     "output_type": "execute_result"
    },
    {
     "data": {
      "image/png": "[encoded data removed]",
      "text/plain": [
       "<Figure size 640x480 with 1 Axes>"
      ]
     },
     "metadata": {},
     "output_type": "display_data"
    }
   ],
   "source": [
    "df = pd.read_csv('NVT_S2-temp.xvg', sep='\\s+', header=None, names=['time (ps)','temperature (K)'])\n",
    "df.plot('time (ps)')"
   ]
  },
  {
   "cell_type": "markdown",
   "id": "f5925bde-2f37-4a76-b193-82c16e6beeee",
   "metadata": {},
   "source": [
    "**Visualisation of the final structure**"
   ]
  },
  {
   "cell_type": "code",
   "execution_count": null,
   "id": "1707850d-5326-4ab8-ad45-65c04e585e09",
   "metadata": {},
   "outputs": [],
   "source": [
    "# NVT equlibration step 1\n",
    "import nglview as ng\n",
    "view = ng.show_structure_file(f\"step6.1_equilibration_NVT_step1.gro\")\n",
    "## Lipids\n",
    "view.add_representation(\"ball+stick\",selection=\"POPC\")\n",
    "## water\n",
    "view.add_representation(\"licorice\",selection=\"TIP3P\", opacity=0.9)\n",
    "view.center()\n",
    "view"
   ]
  },
  {
   "cell_type": "code",
   "execution_count": null,
   "id": "6df21cde-9191-49a3-811c-2525ddd9353a",
   "metadata": {},
   "outputs": [],
   "source": [
    "# NVT equlibration step 2\n",
    "view = ng.show_structure_file(f\"step6.2_equilibration_NVT_step2.gro\")\n",
    "## Lipids\n",
    "view.add_representation(\"ball+stick\",selection=\"POPC\")\n",
    "## water\n",
    "view.add_representation(\"licorice\",selection=\"TIP3P\", opacity=0.9)\n",
    "view.center()\n",
    "view"
   ]
  },
  {
   "cell_type": "markdown",
   "id": "df3c7969-8fcc-4dd5-a9ab-4e59ec30ccce",
   "metadata": {},
   "source": [
    "# 6. Equilibration run - NVT\n",
    "In order to minimize unintended changes in system size and conformation, NPT equilibration is carried out in four phases, with each step including a progressive removal of restraint."
   ]
  },
  {
   "cell_type": "code",
   "execution_count": null,
   "id": "6893c13b-897a-41f8-b4f0-af05b5604265",
   "metadata": {},
   "outputs": [],
   "source": [
    "# Generate binary file for step 1\n",
    "!gmx grompp -f step6.3_equilibration_NPT_step1.mdp -o step6.3_equilibration_NPT_step1.tpr -c step6.2_equilibration_NVT_step2.gro -r step5_input.gro -p topol.top -n index.ndx"
   ]
  },
  {
   "cell_type": "code",
   "execution_count": null,
   "id": "8464d3a2-3d8d-4d93-95d0-8ce0f6cb799f",
   "metadata": {},
   "outputs": [],
   "source": [
    "# Run NPT eqilibration step 1\n",
    "!gmx mdrun -v -deffnm step6.3_equilibration_NPT_step1"
   ]
  },
  {
   "cell_type": "code",
   "execution_count": null,
   "id": "d547793f-548d-4bb5-b2fd-94f9d18f34cc",
   "metadata": {},
   "outputs": [],
   "source": [
    "# Step 2\n",
    "!gmx grompp -f step6.4_equilibration_NPT_step2.mdp -o step6.4_equilibration_NPT_step2.tpr -c step6.3_equilibration_NPT_step1.gro -r step5_input.gro -p topol.top -n index.ndx\n",
    "!gmx mdrun -v -deffnm step6.4_equilibration_NPT_step2"
   ]
  },
  {
   "cell_type": "code",
   "execution_count": null,
   "id": "695c586b-fdf5-46dc-8ec4-7bad93385cd9",
   "metadata": {},
   "outputs": [],
   "source": [
    "# Step 3\n",
    "!gmx grompp -f step6.5_equilibration_NPT_step3.mdp -o step6.5_equilibration_NPT_step3.tpr -c step6.4_equilibration_NPT_step2.gro -r step5_input.gro -p topol.top -n index.ndx\n",
    "#!gmx mdrun -v -deffnm step6.5_equilibration_NPT_step3"
   ]
  },
  {
   "cell_type": "code",
   "execution_count": null,
   "id": "d0fbd1f3-b373-4cca-80af-a9ee64400d90",
   "metadata": {},
   "outputs": [],
   "source": [
    "# Step 4\n",
    "!gmx grompp -f step6.6_equilibration_NPT_step4.mdp -o step6.6_equilibration_NPT_step4.tpr -c step6.5_equilibration_NPT_step3.gro -r step5_input.gro -p topol.top -n index.ndx\n",
    "#!gmx mdrun -v -deffnm step6.6_equilibration_NPT_step4"
   ]
  },
  {
   "cell_type": "markdown",
   "id": "eaf2cbd6-ba18-444a-8444-3a2beb7cc77d",
   "metadata": {},
   "source": [
    "**Pressure evolution in last step**\n",
    "\n",
    "- pressure fluctuates more than temperature which is totally ok :)\n",
    "- The system's temperature should rise to the desired level (~303 K) and stay steady for the rest of the equilibration. While, pressure is the parameter which fluctuates a lot during the MD simulation, and its average should be statistically comparable with the pre-defined pressure (1 bar)."
   ]
  },
  {
   "cell_type": "code",
   "execution_count": null,
   "id": "5009a2bf-d2a5-460c-bf3a-fd7dab94581b",
   "metadata": {},
   "outputs": [],
   "source": [
    "# Evolution of pressure in step 4 of NPT equilibration\n",
    "!echo 18|gmx energy -f step6.6_equilibration_NPT_step4.edr -o  NPT_S4_Press.xvg -xvg none"
   ]
  },
  {
   "cell_type": "code",
   "execution_count": 124,
   "id": "c55426e3-5f41-4d94-830e-493fc55c27b8",
   "metadata": {},
   "outputs": [
    {
     "name": "stderr",
     "output_type": "stream",
     "text": [
      "<>:1: SyntaxWarning: invalid escape sequence '\\s'\n",
      "<>:1: SyntaxWarning: invalid escape sequence '\\s'\n",
      "/var/folders/br/2ygwq5cd58q90bxlwkl2zz580000gn/T/ipykernel_2600/3721570458.py:1: SyntaxWarning: invalid escape sequence '\\s'\n",
      "  df = pd.read_csv('NPT_S4_Press.xvg', sep='\\s+', header=None, names=['time(ps)','pressure(bar)'])\n"
     ]
    },
    {
     "data": {
      "text/plain": [
       "<Axes: xlabel='time(ps)'>"
      ]
     },
     "execution_count": 124,
     "metadata": {},
     "output_type": "execute_result"
    },
    {
     "data": {
      "image/png": "[encoded data removed]",
      "text/plain": [
       "<Figure size 640x480 with 1 Axes>"
      ]
     },
     "metadata": {},
     "output_type": "display_data"
    }
   ],
   "source": [
    "df = pd.read_csv('NPT_S4_Press.xvg', sep='\\s+', header=None, names=['time(ps)','pressure(bar)'])\n",
    "df.plot('time(ps)')"
   ]
  },
  {
   "cell_type": "markdown",
   "id": "9754fbd5-1cc2-4a27-9ec6-ebcb3d5c7ca9",
   "metadata": {},
   "source": [
    "# 7. Run MD simulation\n",
    "\n",
    "100ns simulation was performed. Every 10000 of the 50000000 steps were recorded as the trajectory frames. "
   ]
  },
  {
   "cell_type": "code",
   "execution_count": null,
   "id": "4df09c30-efd3-4ce9-98b6-a76e28fc20e3",
   "metadata": {},
   "outputs": [],
   "source": [
    "# Generate binary file for MD\n",
    "!gmx grompp -f step7_production_revised.mdp -o step7_production.tpr -c step6.6_equilibration_NPT_step4.gro -t step6.6_equilibration_NPT_step4.cpt -p topol.top -n index.ndx"
   ]
  },
  {
   "cell_type": "code",
   "execution_count": null,
   "id": "d8d15088-c298-4dd5-852b-502a77d28a27",
   "metadata": {},
   "outputs": [],
   "source": [
    "# Run MD simulation, generate roughly 9028 Mb data, don't execute \n",
    "#!gmx mdrun -s step7_production -cpi\n",
    "\n",
    "# the trr file is compressed into an xtc file.\n",
    "# the xtc file saved every 500 frames of the final trajectory and put the outputs in the reference folder"
   ]
  },
  {
   "cell_type": "markdown",
   "id": "9ce71846-bc29-435f-962a-170b4ab30340",
   "metadata": {},
   "source": [
    "**Visualisation of the trajectory**\n",
    "\n",
    "In this Part, lipids (gray and red spheres), and ions (green and purpule spheres) are illustrated. You can find the name of the atoms by simply placing the cursor on it. Try to find chloride ions."
   ]
  },
  {
   "cell_type": "code",
   "execution_count": null,
   "id": "daa6e4f4-9a48-4491-9bf7-7f9962723c85",
   "metadata": {},
   "outputs": [],
   "source": [
    "import nglview as ng\n",
    "import mdtraj as md\n",
    "trajectory = md.load(f\"step7_production_traj_comp_skip500.xtc\", top=f\"step5_input.pdb\")\n",
    "view = ng.show_mdtraj(trajectory)\n",
    "view.clear()\n",
    "view.add_cartoon('protein',color_scheme='residueindex')\n",
    "view"
   ]
  },
  {
   "cell_type": "code",
   "execution_count": null,
   "id": "6985ffa7-6672-4c2f-aeea-8b83d10217cb",
   "metadata": {},
   "outputs": [],
   "source": [
    "view2 = ng.show_mdtraj(trajectory)\n",
    "view2.add_cartoon('protein',color_scheme='residueindex')\n",
    "view2.add_spacefill('not protein', opacity=0.2)\n",
    "view2.center()\n",
    "view2.camera = 'orthographic'\n",
    "view2"
   ]
  },
  {
   "cell_type": "markdown",
   "id": "c30b1a2e-9965-40c1-86e0-e4def8d6d1fd",
   "metadata": {},
   "source": [
    "**************************** \n",
    "> **HINT**\n",
    "**How to generate replicas?**\n",
    "You may need more than one replica. You can generate several tpr files using the random seed option for the velocity and temperature in the 'mdp' file. \n",
    "\n",
    "> **How to run several replicas?**\n",
    "You don't need to perform simulations separately, because GROMACS has a simple solution for that:\n",
    "   \n",
    "**Step 1:** make folders (here we set four replicas):\n",
    "\n",
    "***mkdir Rep1 Rep2 Rep3 Rep4*** \n",
    "      \n",
    "**Step 2:** copy each tpr file in a different folder and execute mdrun by command below:\n",
    "\n",
    "***mpirun -np 4 gmx_mpi mdrun -v -s step7_production.tpr -multidir Rep1 Rep2 Rep3 Rep4 -cpi***\n",
    "\n",
    "      \n",
    "****************************\n",
    ">> **Quiz**\n",
    "Why do we need to run several replicas? Do you know how they differ from one another? Exactly the same?"
   ]
  },
  {
   "cell_type": "markdown",
   "id": "e9df1386-6efb-4232-9b79-df6af104bc3a",
   "metadata": {},
   "source": [
    "# 8. Analysis\n",
    "\n",
    "1. RNSD: The root mean square deviation (RMSD) is a practical parameter to compare the backbones of a protein from its initial to final state, which illustrates the dynamics of structure during the simulation. Here, the protein structure is pretty stable and fluctuates within expected margins(1-2 Å).\n",
    "2. Energy\n",
    "3. Temperature\n",
    "4. Pressure"
   ]
  },
  {
   "cell_type": "code",
   "execution_count": null,
   "id": "d36b5752-a576-4d20-9439-ddf8df16538d",
   "metadata": {},
   "outputs": [],
   "source": [
    "# Plot RMSD\n",
    "!echo 4 4 |gmx rms -s step7_production.tpr -f step7_production_traj_comp_skip500.xtc -o production_rmsd.xvg -bin production.rmsd.dat -tu ns -fit rot+trans -xvg none;"
   ]
  },
  {
   "cell_type": "code",
   "execution_count": 126,
   "id": "d09dd979-27f0-4ed3-9444-644f0e3f302b",
   "metadata": {},
   "outputs": [
    {
     "name": "stderr",
     "output_type": "stream",
     "text": [
      "<>:1: SyntaxWarning: invalid escape sequence '\\s'\n",
      "<>:1: SyntaxWarning: invalid escape sequence '\\s'\n",
      "/var/folders/br/2ygwq5cd58q90bxlwkl2zz580000gn/T/ipykernel_2600/76810029.py:1: SyntaxWarning: invalid escape sequence '\\s'\n",
      "  df = pd.read_csv('production_rmsd.xvg', sep='\\s+', header=None, names=['time(ns)','RMSD(nm)'])\n"
     ]
    },
    {
     "data": {
      "text/plain": [
       "<Axes: xlabel='time(ns)'>"
      ]
     },
     "execution_count": 126,
     "metadata": {},
     "output_type": "execute_result"
    },
    {
     "data": {
      "image/png": "[encoded data removed]",
      "text/plain": [
       "<Figure size 640x480 with 1 Axes>"
      ]
     },
     "metadata": {},
     "output_type": "display_data"
    }
   ],
   "source": [
    "df = pd.read_csv('production_rmsd.xvg', sep='\\s+', header=None, names=['time(ns)','RMSD(nm)'])\n",
    "df.plot('time(ns)') "
   ]
  },
  {
   "cell_type": "code",
   "execution_count": null,
   "id": "f145e739-852c-4abb-992b-2a1285ba8d3a",
   "metadata": {},
   "outputs": [],
   "source": [
    "# Plot energy\n",
    "!echo 13|gmx energy -f step7_production.edr -o production_Etot.xvg -xvg none"
   ]
  },
  {
   "cell_type": "code",
   "execution_count": 128,
   "id": "e0916c5e-a03d-4b8b-ae8c-a7b778b2d4ad",
   "metadata": {},
   "outputs": [
    {
     "name": "stderr",
     "output_type": "stream",
     "text": [
      "<>:1: SyntaxWarning: invalid escape sequence '\\s'\n",
      "<>:1: SyntaxWarning: invalid escape sequence '\\s'\n",
      "/var/folders/br/2ygwq5cd58q90bxlwkl2zz580000gn/T/ipykernel_2600/3798294948.py:1: SyntaxWarning: invalid escape sequence '\\s'\n",
      "  df = pd.read_csv('production_Etot.xvg', sep='\\s+', header=None, names=['time(ps)','Energy(kJ mol-1)'])\n"
     ]
    },
    {
     "data": {
      "text/plain": [
       "<Axes: xlabel='time(ps)'>"
      ]
     },
     "execution_count": 128,
     "metadata": {},
     "output_type": "execute_result"
    },
    {
     "data": {
      "image/png": "[encoded data removed]",
      "text/plain": [
       "<Figure size 640x480 with 1 Axes>"
      ]
     },
     "metadata": {},
     "output_type": "display_data"
    }
   ],
   "source": [
    "df = pd.read_csv('production_Etot.xvg', sep='\\s+', header=None, names=['time(ps)','Energy(kJ mol-1)'])\n",
    "df.plot('time(ps)')"
   ]
  },
  {
   "cell_type": "code",
   "execution_count": null,
   "id": "5858f6a8-4002-43d5-b225-c383d23e5862",
   "metadata": {},
   "outputs": [],
   "source": [
    "# Plot temperature\n",
    "!echo 15|gmx energy -f step7_production.edr -o  production_temp.xvg -xvg none"
   ]
  },
  {
   "cell_type": "code",
   "execution_count": 130,
   "id": "883dfb9d-84fc-4c18-8ddf-04a2381dfbdd",
   "metadata": {},
   "outputs": [
    {
     "name": "stderr",
     "output_type": "stream",
     "text": [
      "<>:1: SyntaxWarning: invalid escape sequence '\\s'\n",
      "<>:1: SyntaxWarning: invalid escape sequence '\\s'\n",
      "/var/folders/br/2ygwq5cd58q90bxlwkl2zz580000gn/T/ipykernel_2600/2737775502.py:1: SyntaxWarning: invalid escape sequence '\\s'\n",
      "  df = pd.read_csv('production_temp.xvg', sep='\\s+', header=None, names=['time(ps)','Temperature*(K)'])\n"
     ]
    },
    {
     "data": {
      "text/plain": [
       "<Axes: xlabel='time(ps)'>"
      ]
     },
     "execution_count": 130,
     "metadata": {},
     "output_type": "execute_result"
    },
    {
     "data": {
      "image/png": "[encoded data removed]",
      "text/plain": [
       "<Figure size 640x480 with 1 Axes>"
      ]
     },
     "metadata": {},
     "output_type": "display_data"
    }
   ],
   "source": [
    "df = pd.read_csv('production_temp.xvg', sep='\\s+', header=None, names=['time(ps)','Temperature*(K)'])\n",
    "df.plot('time(ps)')"
   ]
  },
  {
   "cell_type": "code",
   "execution_count": null,
   "id": "2450242f-b628-4970-aaa6-c5eb20e9cd99",
   "metadata": {},
   "outputs": [],
   "source": [
    "# Plot pressure\n",
    "!echo 16|gmx energy -f step7_production.edr -o production_press.xvg -xvg none"
   ]
  },
  {
   "cell_type": "code",
   "execution_count": 132,
   "id": "4abe3b94-28f2-4e96-b0b0-6a8f7a739fd0",
   "metadata": {},
   "outputs": [
    {
     "name": "stderr",
     "output_type": "stream",
     "text": [
      "<>:1: SyntaxWarning: invalid escape sequence '\\s'\n",
      "<>:1: SyntaxWarning: invalid escape sequence '\\s'\n",
      "/var/folders/br/2ygwq5cd58q90bxlwkl2zz580000gn/T/ipykernel_2600/824384779.py:1: SyntaxWarning: invalid escape sequence '\\s'\n",
      "  df = pd.read_csv('production_press.xvg', sep='\\s+', header=None, names=['time(ps)','Pressure(bar)'])\n"
     ]
    },
    {
     "data": {
      "text/plain": [
       "<Axes: xlabel='time(ps)'>"
      ]
     },
     "execution_count": 132,
     "metadata": {},
     "output_type": "execute_result"
    },
    {
     "data": {
      "image/png": "[encoded data removed]",
      "text/plain": [
       "<Figure size 640x480 with 1 Axes>"
      ]
     },
     "metadata": {},
     "output_type": "display_data"
    }
   ],
   "source": [
    "df = pd.read_csv('production_press.xvg', sep='\\s+', header=None, names=['time(ps)','Pressure(bar)'])\n",
    "df.plot('time(ps)')"
   ]
  },
  {
   "cell_type": "markdown",
   "id": "dd194655-2825-4cdc-a38a-9f11e596ebcd",
   "metadata": {},
   "source": [
    "*References*\n",
    "\n",
    "1. Jalalypour, F., Howard, R. J., & Lindahl, E. (2024). \"An Allosteric Cholesterol Site in Glycine Receptors Characterized Through Molecular Simulations.\" *bioRxiv*. https://doi.org/10.1101/2024.03.05.583408\n",
    "   \n",
    "2. Yvonnesdotter, L., Rovšnik, U., Blau, C., Lycksell, M., Howard, R. J., & Lindahl, E. (2023). \"Automated Simulation-Based Membrane-Protein Refinement into Cryo-EM Data.\" *Biophysical Journal*. https://doi.org/10.1016/j.bpj.2023.05.033\n",
    "  \n",
    "3. Huang, J., Rauscher, S., Nawrocki, G., Ran, T., Feig, M., De Groot, B. L., Grubmüller, H., & MacKerell Jr., A. D. (2017). \"CHARMM36m: An Improved Force Field for Folded and Intrinsically Disordered Proteins.\" Nature Methods. https://doi.org/10.1038/nmeth.4067."
   ]
  },
  {
   "cell_type": "markdown",
   "id": "d568a824-7bf1-46bb-bd1b-868216254ba5",
   "metadata": {},
   "source": []
  }
 ],
 "metadata": {
  "kernelspec": {
   "display_name": "Python 3 (ipykernel)",
   "language": "python",
   "name": "python3"
  },
  "language_info": {
   "codemirror_mode": {
    "name": "ipython",
    "version": 3
   },
   "file_extension": ".py",
   "mimetype": "text/x-python",
   "name": "python",
   "nbconvert_exporter": "python",
   "pygments_lexer": "ipython3",
   "version": "3.12.4"
  }
 },
 "nbformat": 4,
 "nbformat_minor": 5
}
