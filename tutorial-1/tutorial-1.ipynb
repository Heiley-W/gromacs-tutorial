{
 "cells": [
  {
   "cell_type": "markdown",
   "id": "31f50f9a-fb40-41ba-a5c5-455504f65cf8",
   "metadata": {},
   "source": [
    "# 1. Download file\n",
    "Download pdb file of hen egg white lysozyme (PDB code 1AKI) from [RCSB website](https://www.rcsb.org/structure/1AKI). "
   ]
  },
  {
   "cell_type": "code",
   "execution_count": null,
   "id": "c6df155d-2b98-4e59-b125-73ac17a82b28",
   "metadata": {},
   "outputs": [],
   "source": [
    "import nglview as ng\n",
    "file_path = \"1AKI.pdb\"\n",
    "show = ng.show_structure_file(file_path)\n",
    "show"
   ]
  },
  {
   "cell_type": "markdown",
   "id": "ad695216-9ad4-4c5d-8b3b-3d09425d1028",
   "metadata": {},
   "source": [
    "# 2. Remove crystal water\n",
    "Water is labeled as HOH in pdb file. After removing them, verify that there is no missing atom. "
   ]
  },
  {
   "cell_type": "code",
   "execution_count": null,
   "id": "f29d9b33-77de-4d5b-9e42-4fbd56fab7ed",
   "metadata": {},
   "outputs": [],
   "source": [
    "# Select lines without HOH\n",
    "!grep -v HOH 1AKI.pdb > 1AKI_clean.pdb"
   ]
  },
  {
   "cell_type": "code",
   "execution_count": null,
   "id": "c377e50e-26dc-4e4f-923c-c1a942c07275",
   "metadata": {},
   "outputs": [],
   "source": [
    "# Count lines with \"missing\"\n",
    "!grep -c MISSING 1AKI_clean.pdb"
   ]
  },
  {
   "cell_type": "markdown",
   "id": "4a0b2ee4-3ebc-406e-a583-5041ba86eaee",
   "metadata": {},
   "source": [
    "# 3. Generate input for GROMACS\n",
    "Three files will be generated:\n",
    "1. The topology for the molecule (topol.top): all the information necessary to define the molecule within a simulation, including nonbonded parameters (atom types and charges) and bonded parameters (bonds, angles, and dihedrals)\n",
    "2. A position restraint file (posre.itp): defines force constant to keep atoms in place\n",
    "3. A post-processed structure file (processed.gro): contains all the atoms defined within the force field\n",
    "\n",
    "\"OPLS-AA\" is selected as the force field, and SPC/E water is selected as the solvent. \n",
    "\n",
    "[Summary of water model](https://water.lsbu.ac.uk/water/water_models.html)"
   ]
  },
  {
   "cell_type": "code",
   "execution_count": null,
   "id": "c14d2bbb-2597-48a2-9f24-7ea662554e67",
   "metadata": {},
   "outputs": [],
   "source": [
    "!gmx pdb2gmx -f 1AKI_clean.pdb -o 1AKI_processed.gro -water spce -ff \"oplsaa\""
   ]
  },
  {
   "cell_type": "code",
   "execution_count": null,
   "id": "343bf5dd-d9ba-4251-a4d8-6c2cc654803f",
   "metadata": {},
   "outputs": [],
   "source": [
    "!ls"
   ]
  },
  {
   "cell_type": "markdown",
   "id": "c082eff8-3c5a-4c3c-91c4-86a842ca54e0",
   "metadata": {},
   "source": [
    "# 4. Observe the output files\n",
    "Topology file includess information about: \n",
    "- Force field `#include \"oplsaa.ff/forcefield.itp\"`\n",
    "- Molecule name and exclusions for bonded neighbour `; Name       nrexcl\\\\\n",
    "Protein_A    3`\n",
    "- Atoms information: `[ atoms ]\\\\\n",
    ";   nr       type  resnr residue  atom   cgnr     charge       mass  typeB    chargeB      massB\\\\\n",
    "; residue   1 LYS rtp LYSH q +2.0`\n",
    "- Bond\n",
    "\n",
    "**Atom information**\n",
    "- nr: Atom number\n",
    "- type: Atom type\n",
    "- resnr: Amino acid residue number\n",
    "- residue: The amino acid residue name. Note that this residue was \"LYS\" in the PDB file; the use of .rtp entry \"LYSH\" indicates that the residue is protonated (the predominant state at neutral pH).\n",
    "- atom: Atom name\n",
    "- cgnr: Charge group number. Charge groups define units of integer charge; they aid in speeding up calculations\n",
    "- charge: Self-explanatory\n",
    "- The \"qtot\" descriptor is a running total of the charge on the molecule\n",
    "- mass: Also self-explanatory\n",
    "- typeB, chargeB, massB: Used for free energy perturbation (not discussed here)\n",
    "\n",
    "Subsequent sections include [ bonds ], [ pairs ], [ angles ], and [ dihedrals ]. Some of these sections are self-explanatory (bonds, angles, and dihedrals). The parameters and function types associated with these sections are elaborated on in Chapter 5 of the GROMACS manual. Special 1-4 interactions are included under \"pairs\" (section 5.3.4 of the GROMACS manual).\n",
    "\n"
   ]
  },
  {
   "cell_type": "code",
   "execution_count": null,
   "id": "959fbe53-3466-4fc5-89c9-2f650ab44465",
   "metadata": {},
   "outputs": [],
   "source": [
    "!cat topol.top"
   ]
  },
  {
   "cell_type": "markdown",
   "id": "d80d4a43-d0c7-4a89-9e1e-74fa9b30ea80",
   "metadata": {},
   "source": [
    "Position restrain files include "
   ]
  },
  {
   "cell_type": "code",
   "execution_count": null,
   "id": "cb80e8ee-a3ba-48e6-9e8d-6183da4b862e",
   "metadata": {},
   "outputs": [],
   "source": [
    "!cat posre.itp"
   ]
  },
  {
   "cell_type": "markdown",
   "id": "4391f432-5c6c-4794-b8f8-ffbfc34a816d",
   "metadata": {},
   "source": [
    "# 5. Define unit cell\n",
    "\n",
    "Cubic box is chosen, although rhombic dodecahedron is recommended, as its volume is ~71% of the cubic box of the same periodic distance, thus saving on the number of water molecules that need to be added to solvate the protein.\n",
    "\n",
    "Specifications: \n",
    "- c: Center the protein\n",
    "- d 1.0: Place protein at least 1.0 nm from box edge\n",
    "- bt cubic: Define box time as cube\n",
    "\n",
    "Since we will be using periodic boundary conditions, we must satisfy the minimum image convention. That is, a protein should never see its periodic image, otherwise the forces calculated will be spurious. Specifying a solute-box distance of 1.0 nm will mean that there are at least 2.0 nm between any two periodic images of a protein. This distance will be sufficient for just about any cutoff scheme commonly used in simulations."
   ]
  },
  {
   "cell_type": "code",
   "execution_count": null,
   "id": "8100658b-336e-4720-9395-8c5e3e193b38",
   "metadata": {},
   "outputs": [],
   "source": [
    "!gmx editconf -f 1AKI_processed.gro -o 1AKI_newbox.gro -c -d 1.0 -bt cubic"
   ]
  },
  {
   "cell_type": "markdown",
   "id": "e1b9f08c-5101-4c49-b033-123a5a82c65e",
   "metadata": {},
   "source": [
    "# 6. Fill box with solvent\n",
    "\n",
    "Here we use `spc216.gro`, a generic equilibrated 3-point solvent model. SPC, SPC/E, or TIP3P water are all three-point water models. Output is `1AKI_solv.gro`. \n",
    "\n",
    "Specifications: \n",
    "- cp: Configuration of protein (output of the previous editconf step)\n",
    "- cs: Configuration of solvent (part of gromacs installation)\n",
    "- o: Output\n",
    "- p: Processes the topology file\n",
    "\n",
    "`solvate` keeps track of how many water molecules it has added and modifies the topology file. Note that if you use any other (non-water) solvent, solvate will not make these changes to your topology! "
   ]
  },
  {
   "cell_type": "code",
   "execution_count": null,
   "id": "30d281ca-f6fe-4096-9ed2-8f4c31ab95ea",
   "metadata": {},
   "outputs": [],
   "source": [
    "!gmx solvate -cp 1AKI_newbox.gro -cs spc216.gro -o 1AKI_solv.gro -p topol.top"
   ]
  },
  {
   "cell_type": "code",
   "execution_count": null,
   "id": "b4648786-f4aa-43e8-8cbb-4306088f8b16",
   "metadata": {},
   "outputs": [],
   "source": [
    "!grep -A 10 \"molecules\" topol.top"
   ]
  },
  {
   "cell_type": "markdown",
   "id": "a70ae5cb-65e9-44fc-8c38-f92d01d86b03",
   "metadata": {},
   "source": [
    "# 7. Add ions\n",
    "\n",
    "`genion` reads through topology file and replace water molecules with specified ions. \n",
    "\n",
    "**Input**\n",
    "The input is a run input file, produced by `grompp`. It process coordinate file and topology to generate an atomic-level input (.tpr), which contains all parameters of all atoms in the system. It requires a molecular dynamics parameter file (.mdp), nornally used to run energy minimisation or an MD simulation. The mdp file is downloaded from [here](http://www.mdtutorials.com/gmx/lysozyme/04_ions.html).\n",
    "\n",
    "**Specifications**\n",
    "- s: Structure/state file as input\n",
    "- o: Output\n",
    "- p: Process\n",
    "- pname: Positive ion name (Capital letters)\n",
    "- nname: Negative ion name (Capital letters)\n",
    "- neutral: Final solution is neutral\n",
    "\n",
    "- echo \"SOL\": Replace solution with protein"
   ]
  },
  {
   "cell_type": "code",
   "execution_count": null,
   "id": "c0565f91-0e6a-424a-ba7b-c00b2c7d7566",
   "metadata": {},
   "outputs": [],
   "source": [
    "# Create tpr file\n",
    "!gmx grompp -f ions.mdp -c 1AKI_solv.gro -p topol.top -o ions.tpr"
   ]
  },
  {
   "cell_type": "code",
   "execution_count": null,
   "id": "72cd5655-60eb-403a-bf5e-03196d61bd04",
   "metadata": {},
   "outputs": [],
   "source": [
    "# Pass to genion\n",
    "!echo \"SOL\" | gmx genion -s ions.tpr -o 1AKI_solv_ions.gro -p topol.top -pname NA -nname CL -neutral"
   ]
  },
  {
   "cell_type": "code",
   "execution_count": null,
   "id": "c839b898-acb3-4309-8ee7-dffde79c21aa",
   "metadata": {},
   "outputs": [],
   "source": [
    "!grep -A 10 \"molecules\" topol.top"
   ]
  },
  {
   "cell_type": "markdown",
   "id": "5351c234-b1ed-4cc3-a9d7-def70505e540",
   "metadata": {},
   "source": [
    "# 8. Energy minimisation\n",
    "\n",
    "**Input**\n",
    "We are once again going to use grompp to assemble the structure, topology, and simulation parameters into a binary input file (.tpr), but this time, instead of passing the .tpr to genion, we will run the energy minimization through the GROMACS MD engine, mdrun.\n",
    "\n",
    "**Specification**\n",
    "- v: Verbose\n",
    "- deffnm em: Define output name as em.tpr\n",
    "\n",
    "**Output**\n",
    "- em.log: ASCII-text log file of the EM process\n",
    "- em.edr: Binary energy file\n",
    "- em.trr: Binary full-precision trajectory\n",
    "- em.gro: Energy-minimized structure"
   ]
  },
  {
   "cell_type": "code",
   "execution_count": null,
   "id": "509ef03f-cccc-48eb-b941-828d8eb12eb5",
   "metadata": {},
   "outputs": [],
   "source": [
    "# Assemble tpr file\n",
    "!gmx grompp -f minim.mdp -c 1AKI_solv_ions.gro -p topol.top -o em.tpr"
   ]
  },
  {
   "cell_type": "code",
   "execution_count": null,
   "id": "07cc552a-28bc-4fbd-a30b-71939b4d1f56",
   "metadata": {},
   "outputs": [],
   "source": [
    "# Energy minimisation\n",
    "!gmx mdrun -v -deffnm em"
   ]
  },
  {
   "cell_type": "markdown",
   "id": "d3953120-385a-489b-9d38-d1f512840af9",
   "metadata": {},
   "source": [
    "**Determine if EM run is successful**\n",
    "1. Potential energy is negative, and (for a simple protein in water) on the order of 10^5-10^6, depending on the system size and number of water molecules.\n",
    "2. Maximum force is smaller than that specified in `minim.mdp` (\"emtol = 1000.0\" = 1000 kJ mol^-1 nm^-1). It is possible to arrive at a reasonable Epot with Fmax > emtol. If this happens, your system may not be stable enough for simulation. Evaluate why it may be happening, and perhaps change your minimization parameters (integrator, emstep, etc)."
   ]
  },
  {
   "cell_type": "code",
   "execution_count": null,
   "id": "221e9081-832a-4ad5-9adc-6dbec25f2778",
   "metadata": {},
   "outputs": [],
   "source": [
    "# Double check if potential energy is negative\n",
    "!tail -n10 em.log"
   ]
  },
  {
   "cell_type": "code",
   "execution_count": null,
   "id": "5296e06f-7745-464d-b1b4-4355029d0f42",
   "metadata": {},
   "outputs": [],
   "source": [
    "# Print out potential energy throughout EM\n",
    "# !pip install gmxvg\n",
    "!echo \"10 0\"| gmx energy -f em.edr -o potential.xvg"
   ]
  },
  {
   "cell_type": "code",
   "execution_count": null,
   "id": "c7be2fed-810d-4dc5-a99d-a7e83134eb52",
   "metadata": {},
   "outputs": [],
   "source": [
    "import numpy as np\n",
    "import matplotlib.pyplot as plt\n",
    "\n",
    "# Read the data, ignoring comments and metadata lines\n",
    "time = []\n",
    "potential = []\n",
    "\n",
    "with open(\"potential.xvg\") as file:\n",
    "    for line in file:\n",
    "        if line.startswith(('#', '@')):\n",
    "            continue  # skip comments and metadata\n",
    "        parts = line.strip().split()\n",
    "        time.append(float(parts[0]))\n",
    "        potential.append(float(parts[1]))\n",
    "\n",
    "# Plotting\n",
    "plt.figure(figsize=(8,5))\n",
    "plt.plot(time, potential, label=\"Potential Energy\")\n",
    "plt.xlabel(\"Step\")\n",
    "plt.ylabel(\"Potential Energy (kJ/mol)\")\n",
    "plt.title(\"Energy Minimisation\")\n",
    "plt.legend()\n",
    "plt.grid(True)\n",
    "plt.tight_layout()\n",
    "plt.show()"
   ]
  },
  {
   "cell_type": "markdown",
   "id": "db607cb8-1324-4447-b5c6-e60a2968e348",
   "metadata": {},
   "source": [
    "# 9. Equilibration\n",
    "\n",
    "Purpose: \n",
    "- Optimise solvent with solute (protein) \n",
    "- Optimise solvemtn within itsellf\n",
    "- Bring to desired temperatre\n",
    "- Bring to proper oreientation of protein\n",
    "- Bring to proper denity\n",
    "\n",
    "**First phase: NVT ensemble**\n",
    "\n",
    "Temperature should be stabilised. Around 50-100 ps. \n",
    "mdp file is from [here](http://www.mdtutorials.com/gmx/lysozyme/06_equil.html)\n",
    "\n",
    "Take note of a few parameters in the .mdp file:\n",
    "\n",
    "- gen_vel = yes: Initiates velocity generation. Using different random seeds (gen_seed) gives different initial velocities, and thus multiple (different) simulations can be conducted from the same starting structure.\n",
    "- tcoupl = V-rescale: The velocity rescaling thermostat is an improvement upon the Berendsen weak coupling method, which did not reproduce a correct kinetic ensemble.\n",
    "- pcoupl = no: Pressure coupling is not applied. "
   ]
  },
  {
   "cell_type": "code",
   "execution_count": null,
   "id": "a8b71fdc-b8e7-47c5-8361-7228786f1219",
   "metadata": {},
   "outputs": [],
   "source": [
    "# Run equilibration under NVT ensemble\n",
    "!gmx grompp -f nvt.mdp -c em.gro -r em.gro -p topol.top -o nvt.tpr\n",
    "\n",
    "!gmx mdrun -deffnm nvt"
   ]
  },
  {
   "cell_type": "code",
   "execution_count": null,
   "id": "c25046af-8eec-4a94-b340-56d15cebd360",
   "metadata": {},
   "outputs": [],
   "source": [
    "!echo \"16 0\" | gmx energy -f nvt.edr -o temperature.xvg"
   ]
  },
  {
   "cell_type": "code",
   "execution_count": null,
   "id": "ac139d26-499a-44b2-a662-0bcd91efb84f",
   "metadata": {},
   "outputs": [],
   "source": [
    "time = []\n",
    "potential = []\n",
    "\n",
    "with open(\"temperature.xvg\") as file:\n",
    "    for line in file:\n",
    "        if line.startswith(('#', '@')):\n",
    "            continue  # skip comments and metadata\n",
    "        parts = line.strip().split()\n",
    "        time.append(float(parts[0]))\n",
    "        potential.append(float(parts[1]))\n",
    "\n",
    "# Plotting\n",
    "plt.figure(figsize=(8,5))\n",
    "plt.plot(time, potential, label=\"Temperature\")\n",
    "plt.xlabel(\"Step\")\n",
    "plt.ylabel(\"Temperature\")\n",
    "plt.title(\"Equilibration\")\n",
    "plt.legend()\n",
    "plt.grid(True)\n",
    "plt.tight_layout()\n",
    "plt.show()"
   ]
  },
  {
   "cell_type": "markdown",
   "id": "762d21f9-a1c2-4b01-8899-1d3d7da50bf6",
   "metadata": {},
   "source": [
    "**Second phase: NPT ensemble**\n",
    "\n",
    "**Input**\n",
    "- c: Input gro file found [here](http://www.mdtutorials.com/gmx/lysozyme/07_equil2.html)"
   ]
  },
  {
   "cell_type": "code",
   "execution_count": null,
   "id": "0ef63329-1462-4ac3-ba7a-dfad401fd5d8",
   "metadata": {},
   "outputs": [],
   "source": [
    "!gmx grompp -f npt.mdp -c nvt.gro -r nvt.gro -t nvt.cpt -p topol.top -o npt.tpr\n",
    "\n",
    "!gmx mdrun -deffnm npt"
   ]
  },
  {
   "cell_type": "code",
   "execution_count": null,
   "id": "3644c8b1-245d-41e8-8013-c02802ff34c4",
   "metadata": {},
   "outputs": [],
   "source": [
    "!echo \"18 0\" | gmx energy -f npt.edr -o pressure.xvg"
   ]
  },
  {
   "cell_type": "code",
   "execution_count": null,
   "id": "93245bfa-3f53-4071-aaf7-17b74af05383",
   "metadata": {},
   "outputs": [],
   "source": [
    "time = []\n",
    "potential = []\n",
    "\n",
    "with open(\"pressure.xvg\") as file:\n",
    "    for line in file:\n",
    "        if line.startswith(('#', '@')):\n",
    "            continue  # skip comments and metadata\n",
    "        parts = line.strip().split()\n",
    "        time.append(float(parts[0]))\n",
    "        potential.append(float(parts[1]))\n",
    "\n",
    "# Plotting\n",
    "plt.figure(figsize=(8,5))\n",
    "plt.plot(time, potential, label=\"Pressure\")\n",
    "plt.xlabel(\"Step\")\n",
    "plt.ylabel(\"Pressure\")\n",
    "plt.title(\"NPT Equilibration\")\n",
    "plt.legend()\n",
    "plt.grid(True)\n",
    "plt.tight_layout()\n",
    "plt.show()"
   ]
  },
  {
   "cell_type": "code",
   "execution_count": null,
   "id": "8177fd86-f2fc-4258-a32d-3985bb550925",
   "metadata": {},
   "outputs": [],
   "source": [
    "!echo \"24 0\" | gmx energy -f npt.edr -o density.xvg"
   ]
  },
  {
   "cell_type": "code",
   "execution_count": null,
   "id": "60799cdb-82e8-49e4-bfe4-39ac05ea69b8",
   "metadata": {},
   "outputs": [],
   "source": [
    "time = []\n",
    "potential = []\n",
    "\n",
    "with open(\"density.xvg\") as file:\n",
    "    for line in file:\n",
    "        if line.startswith(('#', '@')):\n",
    "            continue  # skip comments and metadata\n",
    "        parts = line.strip().split()\n",
    "        time.append(float(parts[0]))\n",
    "        potential.append(float(parts[1]))\n",
    "\n",
    "# Plotting\n",
    "plt.figure(figsize=(8,5))\n",
    "plt.plot(time, potential, label=\"Density\")\n",
    "plt.xlabel(\"Step\")\n",
    "plt.ylabel(\"Density\")\n",
    "plt.title(\"NPT Equilibration\")\n",
    "plt.legend()\n",
    "plt.grid(True)\n",
    "plt.tight_layout()\n",
    "plt.show()"
   ]
  },
  {
   "cell_type": "markdown",
   "id": "cb0b5c12-5557-4d58-b93b-db230d8f53b1",
   "metadata": {},
   "source": [
    "# 10. Produce MD\n",
    "\n",
    "Input mdp file from [here](http://www.mdtutorials.com/gmx/lysozyme/08_MD.html)\n",
    "\n",
    "Parameters: \n",
    "1-ns"
   ]
  },
  {
   "cell_type": "code",
   "execution_count": null,
   "id": "539827ee-1167-4f67-ae76-a527da9156f9",
   "metadata": {},
   "outputs": [],
   "source": [
    "!gmx grompp -f md.mdp -c npt.gro -t npt.cpt -p topol.top -o md_0_1.tpr"
   ]
  },
  {
   "cell_type": "code",
   "execution_count": null,
   "id": "ac8e8ce5-c3c2-43ed-bcaa-8c006319f6fb",
   "metadata": {},
   "outputs": [],
   "source": [
    "# MD run\n",
    "!gmx mdrun -v -deffnm md_0_1 "
   ]
  },
  {
   "cell_type": "markdown",
   "id": "df1ebbbe-2e62-4b20-8481-a9bab1bc0bd5",
   "metadata": {},
   "source": [
    "# 11. Analysis of trajectory\n",
    "\n",
    "**Calculation of RMSD**\n",
    "\n",
    "To understand the structural stability, root mean square deviation is calculated, which measures the average deviation in atomic positions between two structures. RMSD levels off to ~0.1 nm (1 Å), indicating that the structure is very stable. "
   ]
  },
  {
   "cell_type": "code",
   "execution_count": null,
   "id": "2e947874-8912-4bf8-9cd5-99c66f199266",
   "metadata": {},
   "outputs": [],
   "source": [
    "!echo \"1 0\"| gmx trjconv -s md_0_1.tpr -f md_0_1.xtc -o md_0_1_noPBC.xtc -pbc mol -center"
   ]
  },
  {
   "cell_type": "code",
   "execution_count": null,
   "id": "28367bcb-4be4-4213-ba65-fe4e8eb86fe9",
   "metadata": {},
   "outputs": [],
   "source": [
    "!echo \"4 4\"|gmx rms -s md_0_1.tpr -f md_0_1_noPBC.xtc -o rmsd.xvg -tu ns "
   ]
  },
  {
   "cell_type": "code",
   "execution_count": null,
   "id": "8e81f842-3df6-47f2-ba9d-d6de6dd9a44b",
   "metadata": {},
   "outputs": [],
   "source": [
    "time = []\n",
    "potential = []\n",
    "\n",
    "with open(\"rmsd.xvg\") as file:\n",
    "    for line in file:\n",
    "        if line.startswith(('#', '@')):\n",
    "            continue  # skip comments and metadata\n",
    "        parts = line.strip().split()\n",
    "        time.append(float(parts[0]))\n",
    "        potential.append(float(parts[1]))\n",
    "\n",
    "# Plotting\n",
    "plt.figure(figsize=(8,5))\n",
    "plt.plot(time, potential, label=\"RMSD\")\n",
    "plt.xlabel(\"Time (ns)\")\n",
    "plt.ylabel(\"RMSD (nm)\")\n",
    "plt.title(\"RMSD relative to the structure in the minimized, equilibrated system\")\n",
    "plt.legend()\n",
    "plt.grid(True)\n",
    "plt.tight_layout()\n",
    "plt.show()"
   ]
  },
  {
   "cell_type": "markdown",
   "id": "9f254fa3-2952-4fcc-935b-21831d5ab90e",
   "metadata": {},
   "source": [
    "**Radius of gyration**\n",
    "\n",
    "Radius of gyration of a protein is a measure of its compactness. If a protein is stably folded, it will likely maintain a relatively steady value of Rg. If a protein unfolds, its Rg will change over time.\n",
    "\n",
    "We can see from the reasonably invariant Rg values that the protein remains very stable, in its compact (folded) form over the course of 1 ns at 300 K. "
   ]
  },
  {
   "cell_type": "code",
   "execution_count": null,
   "id": "c34c3266-ad1d-463d-9121-c85f7c5d9879",
   "metadata": {},
   "outputs": [],
   "source": [
    "!echo \"1\" | gmx gyrate -s md_0_1.tpr -f md_0_1_noPBC.xtc -o gyrate.xvg"
   ]
  },
  {
   "cell_type": "code",
   "execution_count": null,
   "id": "4f9d2a78-778f-483c-b2af-c24f34f31973",
   "metadata": {},
   "outputs": [],
   "source": [
    "time = []\n",
    "potential = []\n",
    "\n",
    "with open(\"gyrate.xvg\") as file:\n",
    "    for line in file:\n",
    "        if line.startswith(('#', '@')):\n",
    "            continue  # skip comments and metadata\n",
    "        parts = line.strip().split()\n",
    "        time.append(float(parts[0]))\n",
    "        potential.append(float(parts[1]))\n",
    "\n",
    "# Plotting\n",
    "plt.figure(figsize=(8,5))\n",
    "plt.plot(time, potential,label = \"Radius of gyration\")\n",
    "plt.xlabel(\"Time (ns)\")\n",
    "plt.ylabel(\"R_g (nm)\")\n",
    "plt.title(\"Radius of gyration\")\n",
    "plt.legend()\n",
    "plt.grid(True)\n",
    "plt.tight_layout()\n",
    "plt.show()"
   ]
  }
 ],
 "metadata": {
  "kernelspec": {
   "display_name": "Python 3 (ipykernel)",
   "language": "python",
   "name": "python3"
  },
  "language_info": {
   "codemirror_mode": {
    "name": "ipython",
    "version": 3
   },
   "file_extension": ".py",
   "mimetype": "text/x-python",
   "name": "python",
   "nbconvert_exporter": "python",
   "pygments_lexer": "ipython3",
   "version": "3.12.4"
  }
 },
 "nbformat": 4,
 "nbformat_minor": 5
}
