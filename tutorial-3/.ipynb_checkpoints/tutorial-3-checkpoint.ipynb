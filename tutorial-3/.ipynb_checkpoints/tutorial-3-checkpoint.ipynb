{
 "cells": [
  {
   "cell_type": "markdown",
   "id": "ebae7749-c37b-4f28-b7a2-ba06539054c5",
   "metadata": {},
   "source": [
    "# Tutorial 3: Solvation free energy of ethanol\n",
    "## Background\n",
    "- Free energy determines the direction of biological processes\n",
    "- E.g. free energy decreases when molecule (ethanol) dissolve in solvent\n",
    "- Binding free energy is used to investigate the binding affinity of ligands or drugs\n",
    "- free energy difference between two states $A$ and $B$ ($F_B - F_A$) determines their relative probability $p_A$ and $p_B$,\n",
    "$$ \\frac{p_A}{p_B} = exp \\frac{F_B - F_A}{k_BT}$$\n",
    "- Types of free energy: Free energy of solvation, binding free energy ...\n",
    "\n",
    "## Different methods to compute free energy \n",
    "### 1. Potential of mean force\n",
    "- Concept: Calculating the integral of the force over the distance from the bound state to the completely unbound state. It applies a mechanical force to explore the energy landscape.\n",
    "- Difficulty: Need to explore all possible states while ligand is pulled away, long convergence time\n",
    "### 2. Alchemical free energy computation\n",
    "- Free energy perturbation: Transition is split into several intermediate unphysical (alchemical) states, so that it is reversible to calculate BAR. The interaction strength between a molecule of interest and the rest of the system is coupled to a variable $\\lambda$:\n",
    "$$ E_{total} = E_{ligand-ligand} + E_{rest-rest} + \\lambda E_{ligand-rest}  $$\n",
    "and we slowly turn $\\lambda$ from 1 (coupled) to 0 (decoupled)\n",
    "    - Free energy of binding\n",
    "        - Step 1: At $\\lambda=0$, ligand is decoupled from solvent, corresponds to $\\Delta G_1$\n",
    "        - Step 2: Resolvate ligand in the presence of receeptor ($\\Delta G_2$), reaching $\\lambda=1$\n",
    "    - Free energy of solvation\n",
    "      - Resolvate ligand in the presence of solvent ($\\Delta G_2$)\n",
    " - Bennett Acceptance Ratio (BAR): Use outputs of two simulations to calculate the Monte Carlo acceptance rates of transitions and estimate the free energy difference\n",
    " \n",
    "## Tutorial overview\n",
    "- Coulomb and van der Waals' interactions are turned off\n",
    "- Use 'soft-core' interactions to make sure two point charges won't sit on top and cancels out the free energy difference\n",
    "- Force field: OPLS\n",
    "- Solute: SPC/E water\n",
    "- Input files:"
   ]
  },
  {
   "cell_type": "code",
   "execution_count": 31,
   "id": "0c3d9ec0-a87a-46a4-ba8e-c008d1db0e30",
   "metadata": {},
   "outputs": [
    {
     "name": "stdout",
     "output_type": "stream",
     "text": [
      "ethanol_Sethane.top ethanol.gro         topol.top\n"
     ]
    }
   ],
   "source": [
    "!ls input_files"
   ]
  },
  {
   "cell_type": "code",
   "execution_count": 35,
   "id": "7bc7652f-7c71-40cb-8c8e-69131580b4c1",
   "metadata": {},
   "outputs": [
    {
     "name": "stdout",
     "output_type": "stream",
     "text": [
      "; include the OPLS forcefield\n",
      "#include \"oplsaa.ff/forcefield.itp\"\n",
      "\n",
      "; add our own ethanol\n",
      "[ moleculetype ]\n",
      "; Name            nrexcl\n",
      "ethanol\t3\n",
      "\n",
      "[ atoms ]\n",
      ";   nr       type  resnr residue  atom   cgnr     charge       mass  typeB    chargeB      massB\n",
      "     1   opls_158      1   ETH      CB      1      0.145     12.011\n",
      "     2   opls_140      1   ETH     HB1      1       0.06      1.008\n",
      "     3   opls_140      1   ETH     HB2      1       0.06      1.008\n",
      "     4   opls_154      1   ETH     OG1      1     -0.683    15.9994\n",
      "     5   opls_155      1   ETH     HG1      1      0.418      1.008\n",
      "     6   opls_135      1   ETH     CG2      2      -0.18     12.011\n",
      "     7   opls_140      1   ETH    HG21      2       0.06      1.008\n",
      "     8   opls_140      1   ETH    HG22      2       0.06      1.008\n",
      "     9   opls_140      1   ETH    HG23      2       0.06      1.008\n",
      "\n",
      "[ bonds ]\n",
      ";  ai    aj funct            c0            c1            c2            c3\n",
      "    1     2     1 \n",
      "    1     3     1 \n",
      "    1     4     1 \n",
      "    1     6     1 \n",
      "    4     5     1 \n",
      "    6     7     1 \n",
      "    6     8     1 \n",
      "    6     9     1 \n",
      "\n",
      "[ pairs ]\n",
      ";  ai    aj funct            c0            c1            c2            c3\n",
      "    4     7     1 \n",
      "    4     8     1 \n",
      "    4     9     1 \n",
      "    5     6     1 \n",
      "\n",
      "[ angles ]\n",
      ";  ai    aj    ak funct            c0            c1            c2            c3\n",
      "    2     1     3     1 \n",
      "    2     1     4     1 \n",
      "    2     1     6     1 \n",
      "    3     1     4     1 \n",
      "    3     1     6     1 \n",
      "    4     1     6     1 \n",
      "    1     4     5     1 \n",
      "    1     6     7     1 \n",
      "    1     6     8     1 \n",
      "    1     6     9     1 \n",
      "    7     6     8     1 \n",
      "    7     6     9     1 \n",
      "    8     6     9     1 \n",
      "\n",
      "[ dihedrals ]\n",
      ";  ai    aj    ak    al funct            c0            c1            c2            c3            c4            c5\n",
      "    2     1     4     5     3 \n",
      "    3     1     4     5     3 \n",
      "    6     1     4     5     3 \n",
      "    2     1     6     7     3 \n",
      "    2     1     6     8     3 \n",
      "    2     1     6     9     3 \n",
      "    3     1     6     7     3 \n",
      "    3     1     6     8     3 \n",
      "    3     1     6     9     3 \n",
      "    4     1     6     7     3 \n",
      "    4     1     6     8     3 \n",
      "    4     1     6     9     3 \n",
      "\n",
      "; and the SPC/E water model.\n",
      "#include \"oplsaa.ff/spce.itp\"\n",
      "\n",
      "[ system ]\n",
      "Ethanol in water\n",
      "\n",
      "[ molecules ]\n",
      "ethanol 1\n"
     ]
    }
   ],
   "source": [
    "!cat input_files/topol.top"
   ]
  },
  {
   "cell_type": "markdown",
   "id": "0004b4d9-fe7f-4288-9864-8f0db9170bd9",
   "metadata": {},
   "source": [
    "## Step 1: Prepare the system"
   ]
  },
  {
   "cell_type": "code",
   "execution_count": null,
   "id": "8228da58-48e6-4d27-bc2b-daba600f12a1",
   "metadata": {},
   "outputs": [],
   "source": [
    "# Preparing the system\n",
    "\n",
    "import os,shutil\n",
    "\n",
    "#simple function to write mdp files\n",
    "def write_mdp(mdp_string, mdp_name, directory):\n",
    "    mdp_filename=os.path.join(directory,mdp_name)\n",
    "    mdp_filehandle=open(mdp_filename,'w')\n",
    "    mdp_filehandle.write(mdp_string)\n",
    "    mdp_filehandle.close()\n",
    "\n",
    "#get the path to the working directory\n",
    "pwd=os.getcwd()\n",
    "\n",
    "#path to gromacs files\n",
    "input_files=os.path.join(pwd,'input_files')\n",
    "output_files=os.path.join(pwd,'output_files')\n",
    "if not os.path.isdir(output_files):\n",
    "    os.mkdir(output_files)\n",
    "shutil.copy(os.path.join(input_files,'ethanol.gro'),os.path.join(output_files,'ethanol.gro'))\n",
    "shutil.copy(os.path.join(input_files,'topol.top'),os.path.join(output_files,'topol.top'))\n",
    "%cd output_files"
   ]
  },
  {
   "cell_type": "code",
   "execution_count": null,
   "id": "68a9884b-e1f1-42a1-89c6-427459889168",
   "metadata": {},
   "outputs": [],
   "source": [
    "!gmx editconf -f ethanol.gro -o box.gro -bt dodecahedron -d 1.2"
   ]
  },
  {
   "cell_type": "code",
   "execution_count": null,
   "id": "73fe9b5b-9910-441b-b490-635c0fff5f61",
   "metadata": {},
   "outputs": [],
   "source": [
    "!gmx solvate -cp box.gro -cs -o solvated.gro -p topol.top"
   ]
  },
  {
   "cell_type": "code",
   "execution_count": null,
   "id": "e5dcaa1a-1f7c-4180-b5c9-5a430254ba77",
   "metadata": {},
   "outputs": [],
   "source": [
    "em_mdp=\"\"\";minimal mdp options for energy minimization\n",
    "integrator               = steep\n",
    "nsteps                   = 500\n",
    "coulombtype              = pme\n",
    "\"\"\"\n",
    "write_mdp(em_mdp,'em.mdp',output_files)\n",
    "!gmx grompp -f em.mdp -c solvated.gro -o em.tpr\n",
    "!gmx mdrun -v -deffnm em -ntmpi 1 -ntomp 1"
   ]
  },
  {
   "cell_type": "code",
   "execution_count": null,
   "id": "be67ac49-1f44-4bcc-bfb4-e93681f965bb",
   "metadata": {},
   "outputs": [],
   "source": [
    "equil_mdp=\"\"\";equilibration mdp options\n",
    "integrator               = md\n",
    "nsteps                   = 100000\n",
    "dt                       = 0.002\n",
    "nstenergy                = 100\n",
    "rlist                    = 1.1\n",
    "nstlist                  = 10\n",
    "rvdw                     = 1.1\n",
    "coulombtype              = pme\n",
    "rcoulomb                 = 1.1\n",
    "fourierspacing           = 0.13\n",
    "constraints              = h-bonds\n",
    "tcoupl                   = v-rescale\n",
    "tc-grps                  = system\n",
    "tau-t                    = 0.5\n",
    "ref-t                    = 300\n",
    "pcoupl                   = C-rescale\n",
    "ref-p                    = 1\n",
    "compressibility          = 4.5e-5\n",
    "tau-p                    = 1\n",
    "gen-vel                  = yes\n",
    "gen-temp                 = 300\n",
    "\"\"\"\n",
    "write_mdp(equil_mdp,'equil.mdp',output_files)\n",
    "!gmx grompp -f equil.mdp -c em.gro -o equil.tpr\n",
    "!gmx mdrun -deffnm equil -ntmpi 1 -ntomp 8"
   ]
  },
  {
   "cell_type": "markdown",
   "id": "3876e2dd-823b-4bf5-be1f-a6c849d96669",
   "metadata": {},
   "source": [
    "## Step 2: Creating the $\\lambda$ points\n",
    "\n",
    "- $\\lambda = 0$: Decoupled\n",
    "- $\\lambda = 1$: Fully coupled\n",
    "- $\\lambda = 0.2,0.4, 0.6, 0.8, 0.9$: Intermediate states\n",
    "- `sc` options: Soft-core interactions to prevent overlapping particles"
   ]
  },
  {
   "cell_type": "code",
   "execution_count": null,
   "id": "67910dcc-26d4-47bb-8f24-64080ede257a",
   "metadata": {},
   "outputs": [],
   "source": [
    "run_mdp=\"\"\"; we'll use the sd integrator (an accurate and efficient leap-frog stochastic dynamics integrator) with 100000 time steps (200ps)\n",
    "integrator               = sd\n",
    "nsteps                   = 100000\n",
    "dt                       = 0.002\n",
    "nstenergy                = 1000\n",
    "nstcalcenergy            = 50 ; should be a divisor of nstdhdl \n",
    "nstlog                   = 5000\n",
    "; cut-offs at 1.0nm\n",
    "rlist                    = 1.1\n",
    "rvdw                     = 1.1\n",
    "; Coulomb interactions\n",
    "coulombtype              = pme\n",
    "rcoulomb                 = 1.1\n",
    "fourierspacing           = 0.13\n",
    "; Constraints\n",
    "constraints              = h-bonds\n",
    "; set temperature to 300K\n",
    "tc-grps                  = system\n",
    "tau-t                    = 2.0\n",
    "ref-t                    = 300\n",
    "; set pressure to 1 bar with a thermostat that gives a correct\n",
    "; thermodynamic ensemble\n",
    "pcoupl                   = C-rescale\n",
    "ref-p                    = 1.0\n",
    "compressibility          = 4.5e-5\n",
    "tau-p                    = 5.0\n",
    "\n",
    "; and set the free energy parameters\n",
    "free-energy              = yes\n",
    "couple-moltype           = ethanol\n",
    "nstdhdl                  = 50 ; frequency for writing energy difference in dhdl.xvg, 0 means no ouput, should be a multiple of nstcalcenergy. \n",
    "; these 'soft-core' parameters make sure we never get overlapping\n",
    "; charges as lambda goes to 0\n",
    "; soft-core function\n",
    "sc-power                 = 1\n",
    "sc-sigma                 = 0.3\n",
    "sc-alpha                 = 1.0\n",
    "; we still want the molecule to interact with itself at lambda=0\n",
    "couple-intramol          = no\n",
    "couple-lambda1           = vdwq\n",
    "couple-lambda0           = none\n",
    "init-lambda-state        = {}\n",
    "; These are the lambda states at which we simulate\n",
    "; for separate LJ and Coulomb decoupling, use\n",
    "fep-lambdas              = 0.0 0.2 0.4 0.6 0.8 0.9 1.0\n",
    "\"\"\""
   ]
  },
  {
   "cell_type": "markdown",
   "id": "2f2ea836-ec87-4883-a1be-6e84fecfc53c",
   "metadata": {},
   "source": [
    "# Step 3: Run simulation from solution to vaccum "
   ]
  },
  {
   "cell_type": "code",
   "execution_count": null,
   "id": "0fe9527c-91a6-4119-93c5-bbd48f440bd2",
   "metadata": {},
   "outputs": [],
   "source": [
    "number_of_lambdas=7\n",
    "for lambda_number in range(number_of_lambdas):\n",
    "    lambda_directory=os.path.join(output_files,'lambda_{:0>2}'.format(lambda_number))\n",
    "    os.mkdir(lambda_directory)\n",
    "    gro_file=os.path.join(output_files,'equil.gro')\n",
    "    top_file=os.path.join(output_files,'topol.top')\n",
    "    shutil.copy(gro_file,os.path.join(lambda_directory,'conf.gro'))\n",
    "    shutil.copy(top_file,lambda_directory)\n",
    "    write_mdp(run_mdp.format(lambda_number),'grompp.mdp',lambda_directory)\n",
    "    %cd $lambda_directory\n",
    "    !gmx grompp\n",
    "    !gmx mdrun -ntmpi 1 -ntomp 8"
   ]
  },
  {
   "cell_type": "markdown",
   "id": "3b03b8d5-992d-4954-86d4-8ff7fcfc9751",
   "metadata": {},
   "source": [
    "## Step 4: Extracting the free energy for each alchemical state\n",
    "1. Read energy file: `dhdl.xvg` (derivatives of Hamilton w.r.t. lambda at each step)\n",
    "2. Use `gmx bar` tool\n",
    "   - b 100: disregard first 100 ps (equilibration) "
   ]
  },
  {
   "cell_type": "code",
   "execution_count": null,
   "id": "78b66a00-1158-4bba-998a-bc7725765d7f",
   "metadata": {},
   "outputs": [],
   "source": [
    "# Read energy file\n",
    "!head -40 lambda_00/dhdl.xvg"
   ]
  },
  {
   "cell_type": "code",
   "execution_count": 78,
   "id": "55c414b7-46b5-42ed-a834-b09f0a52d982",
   "metadata": {},
   "outputs": [
    {
     "name": "stdout",
     "output_type": "stream",
     "text": [
      "                   :-) GROMACS - gmx bar, 2025.1-Homebrew (-:\n",
      "\n",
      "Executable:   /opt/homebrew/bin/../Cellar/gromacs/2025.1/bin/gmx\n",
      "Data prefix:  /opt/homebrew/bin/../Cellar/gromacs/2025.1\n",
      "Working dir:  /Users/heiley/Desktop/SURP/gromacs-tutorial/tutorial-3\n",
      "Command line:\n",
      "  gmx bar -b 100 -f /Users/heiley/Desktop/SURP/gromacs-tutorial/tutorial-3/output_files/lambda_00/dhdl.xvg /Users/heiley/Desktop/SURP/gromacs-tutorial/tutorial-3/output_files/lambda_01/dhdl.xvg /Users/heiley/Desktop/SURP/gromacs-tutorial/tutorial-3/output_files/lambda_02/dhdl.xvg /Users/heiley/Desktop/SURP/gromacs-tutorial/tutorial-3/output_files/lambda_03/dhdl.xvg /Users/heiley/Desktop/SURP/gromacs-tutorial/tutorial-3/output_files/lambda_04/dhdl.xvg /Users/heiley/Desktop/SURP/gromacs-tutorial/tutorial-3/output_files/lambda_05/dhdl.xvg /Users/heiley/Desktop/SURP/gromacs-tutorial/tutorial-3/output_files/lambda_06/dhdl.xvg\n",
      "\n",
      "/Users/heiley/Desktop/SURP/gromacs-tutorial/tutorial-3/output_files/lambda_00/dhdl.xvg: Ignoring set 'pV (kJ/mol)'.\n",
      "/Users/heiley/Desktop/SURP/gromacs-tutorial/tutorial-3/output_files/lambda_00/dhdl.xvg: 0.0 - 200.0; lambda = 0\n",
      "    dH/dl & foreign lambdas:\n",
      "        dH/dl (fep-lambda) (2001 pts)\n",
      "        delta H to 0 (2001 pts)\n",
      "        delta H to 0.2 (2001 pts)\n",
      "\n",
      "\n",
      "/Users/heiley/Desktop/SURP/gromacs-tutorial/tutorial-3/output_files/lambda_01/dhdl.xvg: Ignoring set 'pV (kJ/mol)'.\n",
      "/Users/heiley/Desktop/SURP/gromacs-tutorial/tutorial-3/output_files/lambda_01/dhdl.xvg: 0.0 - 200.0; lambda = 0.2\n",
      "    dH/dl & foreign lambdas:\n",
      "        dH/dl (fep-lambda) (2001 pts)\n",
      "        delta H to 0 (2001 pts)\n",
      "        delta H to 0.2 (2001 pts)\n",
      "        delta H to 0.4 (2001 pts)\n",
      "\n",
      "\n",
      "/Users/heiley/Desktop/SURP/gromacs-tutorial/tutorial-3/output_files/lambda_02/dhdl.xvg: Ignoring set 'pV (kJ/mol)'.\n",
      "/Users/heiley/Desktop/SURP/gromacs-tutorial/tutorial-3/output_files/lambda_02/dhdl.xvg: 0.0 - 200.0; lambda = 0.4\n",
      "    dH/dl & foreign lambdas:\n",
      "        dH/dl (fep-lambda) (2001 pts)\n",
      "        delta H to 0.2 (2001 pts)\n",
      "        delta H to 0.4 (2001 pts)\n",
      "        delta H to 0.6 (2001 pts)\n",
      "\n",
      "\n",
      "/Users/heiley/Desktop/SURP/gromacs-tutorial/tutorial-3/output_files/lambda_03/dhdl.xvg: Ignoring set 'pV (kJ/mol)'.\n",
      "/Users/heiley/Desktop/SURP/gromacs-tutorial/tutorial-3/output_files/lambda_03/dhdl.xvg: 0.0 - 200.0; lambda = 0.6\n",
      "    dH/dl & foreign lambdas:\n",
      "        dH/dl (fep-lambda) (2001 pts)\n",
      "        delta H to 0.4 (2001 pts)\n",
      "        delta H to 0.6 (2001 pts)\n",
      "        delta H to 0.8 (2001 pts)\n",
      "\n",
      "\n",
      "/Users/heiley/Desktop/SURP/gromacs-tutorial/tutorial-3/output_files/lambda_04/dhdl.xvg: Ignoring set 'pV (kJ/mol)'.\n",
      "/Users/heiley/Desktop/SURP/gromacs-tutorial/tutorial-3/output_files/lambda_04/dhdl.xvg: 0.0 - 200.0; lambda = 0.8\n",
      "    dH/dl & foreign lambdas:\n",
      "        dH/dl (fep-lambda) (2001 pts)\n",
      "        delta H to 0.6 (2001 pts)\n",
      "        delta H to 0.8 (2001 pts)\n",
      "        delta H to 0.9 (2001 pts)\n",
      "\n",
      "\n",
      "/Users/heiley/Desktop/SURP/gromacs-tutorial/tutorial-3/output_files/lambda_05/dhdl.xvg: Ignoring set 'pV (kJ/mol)'.\n",
      "/Users/heiley/Desktop/SURP/gromacs-tutorial/tutorial-3/output_files/lambda_05/dhdl.xvg: 0.0 - 200.0; lambda = 0.9\n",
      "    dH/dl & foreign lambdas:\n",
      "        dH/dl (fep-lambda) (2001 pts)\n",
      "        delta H to 0.8 (2001 pts)\n",
      "        delta H to 0.9 (2001 pts)\n",
      "        delta H to 1 (2001 pts)\n",
      "\n",
      "\n",
      "/Users/heiley/Desktop/SURP/gromacs-tutorial/tutorial-3/output_files/lambda_06/dhdl.xvg: Ignoring set 'pV (kJ/mol)'.\n",
      "/Users/heiley/Desktop/SURP/gromacs-tutorial/tutorial-3/output_files/lambda_06/dhdl.xvg: 0.0 - 200.0; lambda = 1\n",
      "    dH/dl & foreign lambdas:\n",
      "        dH/dl (fep-lambda) (2001 pts)\n",
      "        delta H to 0.9 (2001 pts)\n",
      "        delta H to 1 (2001 pts)\n",
      "\n",
      "\n",
      "\n",
      "   Samples in time interval: 0.000 - 200.000\n",
      "Removing samples outside of: 100.000 - 200.000\n",
      "\n",
      "Temperature: 300 K\n",
      "\n",
      "Detailed results in kT (see help for explanation):\n",
      "\n",
      " lam_A  lam_B      DG   +/-     s_A   +/-     s_B   +/-   stdev   +/- \n",
      "     0      1   -8.04  0.02    0.20  0.05    0.20  0.05    0.66  0.02\n",
      "     1      2   -5.63  0.04    0.24  0.03    0.23  0.02    0.68  0.02\n",
      "     2      3    2.04  0.16    1.35  0.09    1.55  0.13    1.84  0.07\n",
      "     3      4    6.25  0.94   34.75  1.16    6.81  0.89   12.65 12.05\n",
      "     4      5    1.65  0.08    3.41  0.29    1.84  0.13    2.30  0.11\n",
      "     5      6   -3.24  0.44   14.42  0.52   12.57  0.71   11.09  1.35\n",
      "\n",
      "\n",
      "Final results in kJ/mol:\n",
      "\n",
      "point      0 -      1,   DG -20.05 +/-  0.06\n",
      "point      1 -      2,   DG -14.04 +/-  0.10\n",
      "point      2 -      3,   DG  5.10 +/-  0.40\n",
      "point      3 -      4,   DG 15.60 +/-  2.34\n",
      "point      4 -      5,   DG  4.11 +/-  0.20\n",
      "point      5 -      6,   DG -8.08 +/-  1.10\n",
      "\n",
      "total      0 -      6,   DG -17.36 +/-  1.88\n",
      "\n",
      "\n",
      "GROMACS reminds you: \"Everything what mathematicians were saying for the last 50 years is slowly catching up with us.\" (David van der Spoel)\n",
      "\n"
     ]
    }
   ],
   "source": [
    "# Calculate free energy difference using BAR\n",
    "bar_string = ''\n",
    "for lambda_number in range(number_of_lambdas):\n",
    "    lambda_directory=os.path.join(output_files,'lambda_{:0>2}'.format(lambda_number))\n",
    "    bar_string=bar_string + lambda_directory + '/dhdl.xvg '\n",
    "!gmx bar -b 100 -f $bar_string"
   ]
  },
  {
   "cell_type": "markdown",
   "id": "d0224806-47c9-4484-9e18-b3e31a376ee4",
   "metadata": {},
   "source": [
    "## Step 5: Relative free energy of solvation\n",
    "\n",
    "By modifying the mdp file, we investigate the relative free energies from ethanol (type) to ethanethiol (typeB) in water. (Ehtanol was fixed originally) "
   ]
  },
  {
   "cell_type": "code",
   "execution_count": 46,
   "id": "19445abd-e606-469a-a03f-f2c488c07bc0",
   "metadata": {},
   "outputs": [
    {
     "name": "stdout",
     "output_type": "stream",
     "text": [
      "/Users/heiley/Desktop/SURP/gromacs-tutorial/tutorial-3\n"
     ]
    }
   ],
   "source": [
    "!pwd"
   ]
  },
  {
   "cell_type": "code",
   "execution_count": 50,
   "id": "9508f3e9-38d6-41c1-ac2c-712f41662e36",
   "metadata": {},
   "outputs": [
    {
     "name": "stdout",
     "output_type": "stream",
     "text": [
      ";   nr       type  resnr residue  atom   cgnr     charge       mass  typeB    chargeB      massB\n",
      "11c11\n",
      "\u001b[31m<      1   opls_158      1   ETH      CB      1      0.145     12.011\n",
      "\u001b[m---\n",
      "\u001b[32m>      1   opls_158      1   ETH      CB      1      0.145     12.011   opls_206    0.06 12.011\n",
      "\u001b[m14,15c14,15\n",
      "\u001b[31m<      4   opls_154      1   ETH     OG1      1     -0.683    15.9994\n",
      "<      5   opls_155      1   ETH     HG1      1      0.418      1.008\n",
      "\u001b[m---\n",
      "\u001b[32m>      4   opls_154      1   ETH     OG1      1     -0.683    15.9994   opls_200  -0.335  32.06\n",
      ">      5   opls_155      1   ETH     HG1      1      0.418      1.008   opls_204   0.155  1.008\n",
      "\u001b[m"
     ]
    }
   ],
   "source": [
    "!sed -n 10p input_files/ethanol_Sethane.top \n",
    "!diff --color input_files/topol.top input_files/ethanol_Sethane.top "
   ]
  },
  {
   "cell_type": "code",
   "execution_count": null,
   "id": "1807353b-e55b-4514-ac16-c4c7c0b28268",
   "metadata": {},
   "outputs": [],
   "source": [
    "run_rel_mdp=\"\"\"; we'll use the sd integrator (an accurate and efficient leap-frog stochastic dynamics integrator) with 100000 time steps (200ps)\n",
    "integrator               = sd\n",
    "nsteps                   = 100000\n",
    "dt                       = 0.002\n",
    "nstenergy                = 1000\n",
    "nstcalcenergy            = 50 ; should be a divisor of nstdhdl \n",
    "nstlog                   = 5000\n",
    "; cut-offs at 1.0nm\n",
    "rlist                    = 1.1\n",
    "rvdw                     = 1.1\n",
    "; Coulomb interactions\n",
    "coulombtype              = pme\n",
    "rcoulomb                 = 1.1\n",
    "fourierspacing           = 0.13\n",
    "; Constraints\n",
    "constraints              = h-bonds\n",
    "; set temperature to 300K\n",
    "tc-grps                  = system\n",
    "tau-t                    = 2.0\n",
    "ref-t                    = 300\n",
    "; set pressure to 1 bar with a thermostat that gives a correct\n",
    "; thermodynamic ensemble\n",
    "pcoupl                   = C-rescale\n",
    "ref-p                    = 1.0\n",
    "compressibility          = 4.5e-5\n",
    "tau-p                    = 5.0\n",
    "\n",
    "; and set the free energy parameters\n",
    "free-energy              = yes\n",
    "nstdhdl                  = 50 ; frequency for writing energy difference in dhdl.xvg, 0 means no ouput, should be a multiple of nstcalcenergy. \n",
    "; these 'soft-core' parameters make sure we never get overlapping\n",
    "; charges as lambda goes to 0\n",
    "; soft-core function\n",
    "sc-power                 = 1\n",
    "sc-sigma                 = 0.3\n",
    "sc-alpha                 = 1.0\n",
    "; we still want the molecule to interact with itself at lambda=0\n",
    "init-lambda-state        = {}\n",
    "; These are the lambda states at which we simulate\n",
    "; for separate LJ and Coulomb decoupling, use\n",
    "fep-lambdas              = 0.0 0.2 0.4 0.6 0.8 0.9 1.0\n",
    "\"\"\""
   ]
  },
  {
   "cell_type": "markdown",
   "id": "c5c48d25-09d7-4bcc-b95f-b983930985a0",
   "metadata": {},
   "source": [
    "#### Exercise: Following the procedure described in this tutorial, calculate the relative free energy for the transformation from ethanol to ethanethiol in water solution. Based on your results, which molecule is more hydrophilic?   \n",
    "*Tip: use different paths or input/output names for the different calculations to avoid overwriting your previous results.*"
   ]
  },
  {
   "cell_type": "code",
   "execution_count": null,
   "id": "aa5e4db3-709a-4de5-b848-3485b9b15ec3",
   "metadata": {},
   "outputs": [],
   "source": [
    "import os,shutil\n",
    "output_files_1='/Users/heiley/Desktop/SURP/gromacs-tutorial/tutorial-3/output_files_exercise'"
   ]
  },
  {
   "cell_type": "code",
   "execution_count": null,
   "id": "7155ac00-e44b-4282-8666-53d202da4663",
   "metadata": {},
   "outputs": [],
   "source": [
    "number_of_lambdas=7\n",
    "for lambda_number in range(number_of_lambdas):\n",
    "    lambda_directory=os.path.join(output_files_1,'lambda_{:0>2}'.format(lambda_number))\n",
    "    os.mkdir(lambda_directory)\n",
    "    gro_file=os.path.join(output_files_1,'ethanol_Sethane.gro')\n",
    "    top_file=os.path.join(output_files_1,'ethanol_Sethane.top')\n",
    "    shutil.copy(gro_file,os.path.join(lambda_directory,'conf.gro'))\n",
    "    shutil.copy(top_file,lambda_directory)\n",
    "    write_mdp(run_rel_mdp.format(lambda_number),'grompp.mdp',lambda_directory)\n",
    "    %cd $lambda_directory\n",
    "    !gmx grompp -p ethanol_Sethane.top \n",
    "    !gmx mdrun -v -ntmpi 1 -ntomp 8 "
   ]
  },
  {
   "cell_type": "code",
   "execution_count": 80,
   "id": "e66cef64-8fc3-4085-ab80-ec5238419be9",
   "metadata": {},
   "outputs": [
    {
     "name": "stdout",
     "output_type": "stream",
     "text": [
      "/Users/heiley/Desktop/SURP/gromacs-tutorial/tutorial-3\n"
     ]
    }
   ],
   "source": [
    "!pwd"
   ]
  },
  {
   "cell_type": "code",
   "execution_count": 82,
   "id": "cfac0ee9-8886-49f9-ba6b-93c94d42cef7",
   "metadata": {},
   "outputs": [
    {
     "name": "stdout",
     "output_type": "stream",
     "text": [
      "                   :-) GROMACS - gmx bar, 2025.1-Homebrew (-:\n",
      "\n",
      "Executable:   /opt/homebrew/bin/../Cellar/gromacs/2025.1/bin/gmx\n",
      "Data prefix:  /opt/homebrew/bin/../Cellar/gromacs/2025.1\n",
      "Working dir:  /Users/heiley/Desktop/SURP/gromacs-tutorial/tutorial-3\n",
      "Command line:\n",
      "  gmx bar -b 100 -f /Users/heiley/Desktop/SURP/gromacs-tutorial/tutorial-3/output_files_exercise/lambda_00/dhdl.xvg /Users/heiley/Desktop/SURP/gromacs-tutorial/tutorial-3/output_files_exercise/lambda_01/dhdl.xvg /Users/heiley/Desktop/SURP/gromacs-tutorial/tutorial-3/output_files_exercise/lambda_02/dhdl.xvg /Users/heiley/Desktop/SURP/gromacs-tutorial/tutorial-3/output_files_exercise/lambda_03/dhdl.xvg /Users/heiley/Desktop/SURP/gromacs-tutorial/tutorial-3/output_files_exercise/lambda_04/dhdl.xvg /Users/heiley/Desktop/SURP/gromacs-tutorial/tutorial-3/output_files_exercise/lambda_05/dhdl.xvg /Users/heiley/Desktop/SURP/gromacs-tutorial/tutorial-3/output_files_exercise/lambda_06/dhdl.xvg -o -oi -oh\n",
      "\n",
      "/Users/heiley/Desktop/SURP/gromacs-tutorial/tutorial-3/output_files_exercise/lambda_00/dhdl.xvg: Ignoring set 'pV (kJ/mol)'.\n",
      "/Users/heiley/Desktop/SURP/gromacs-tutorial/tutorial-3/output_files_exercise/lambda_00/dhdl.xvg: 0.0 - 200.0; lambda = 0\n",
      "    dH/dl & foreign lambdas:\n",
      "        dH/dl (fep-lambda) (2001 pts)\n",
      "        delta H to 0 (2001 pts)\n",
      "        delta H to 0.2 (2001 pts)\n",
      "\n",
      "\n",
      "/Users/heiley/Desktop/SURP/gromacs-tutorial/tutorial-3/output_files_exercise/lambda_01/dhdl.xvg: Ignoring set 'pV (kJ/mol)'.\n",
      "/Users/heiley/Desktop/SURP/gromacs-tutorial/tutorial-3/output_files_exercise/lambda_01/dhdl.xvg: 0.0 - 200.0; lambda = 0.2\n",
      "    dH/dl & foreign lambdas:\n",
      "        dH/dl (fep-lambda) (2001 pts)\n",
      "        delta H to 0 (2001 pts)\n",
      "        delta H to 0.2 (2001 pts)\n",
      "        delta H to 0.4 (2001 pts)\n",
      "\n",
      "\n",
      "/Users/heiley/Desktop/SURP/gromacs-tutorial/tutorial-3/output_files_exercise/lambda_02/dhdl.xvg: Ignoring set 'pV (kJ/mol)'.\n",
      "/Users/heiley/Desktop/SURP/gromacs-tutorial/tutorial-3/output_files_exercise/lambda_02/dhdl.xvg: 0.0 - 200.0; lambda = 0.4\n",
      "    dH/dl & foreign lambdas:\n",
      "        dH/dl (fep-lambda) (2001 pts)\n",
      "        delta H to 0.2 (2001 pts)\n",
      "        delta H to 0.4 (2001 pts)\n",
      "        delta H to 0.6 (2001 pts)\n",
      "\n",
      "\n",
      "/Users/heiley/Desktop/SURP/gromacs-tutorial/tutorial-3/output_files_exercise/lambda_03/dhdl.xvg: Ignoring set 'pV (kJ/mol)'.\n",
      "/Users/heiley/Desktop/SURP/gromacs-tutorial/tutorial-3/output_files_exercise/lambda_03/dhdl.xvg: 0.0 - 200.0; lambda = 0.6\n",
      "    dH/dl & foreign lambdas:\n",
      "        dH/dl (fep-lambda) (2001 pts)\n",
      "        delta H to 0.4 (2001 pts)\n",
      "        delta H to 0.6 (2001 pts)\n",
      "        delta H to 0.8 (2001 pts)\n",
      "\n",
      "\n",
      "/Users/heiley/Desktop/SURP/gromacs-tutorial/tutorial-3/output_files_exercise/lambda_04/dhdl.xvg: Ignoring set 'pV (kJ/mol)'.\n",
      "/Users/heiley/Desktop/SURP/gromacs-tutorial/tutorial-3/output_files_exercise/lambda_04/dhdl.xvg: 0.0 - 200.0; lambda = 0.8\n",
      "    dH/dl & foreign lambdas:\n",
      "        dH/dl (fep-lambda) (2001 pts)\n",
      "        delta H to 0.6 (2001 pts)\n",
      "        delta H to 0.8 (2001 pts)\n",
      "        delta H to 0.9 (2001 pts)\n",
      "\n",
      "\n",
      "/Users/heiley/Desktop/SURP/gromacs-tutorial/tutorial-3/output_files_exercise/lambda_05/dhdl.xvg: Ignoring set 'pV (kJ/mol)'.\n",
      "/Users/heiley/Desktop/SURP/gromacs-tutorial/tutorial-3/output_files_exercise/lambda_05/dhdl.xvg: 0.0 - 200.0; lambda = 0.9\n",
      "    dH/dl & foreign lambdas:\n",
      "        dH/dl (fep-lambda) (2001 pts)\n",
      "        delta H to 0.8 (2001 pts)\n",
      "        delta H to 0.9 (2001 pts)\n",
      "        delta H to 1 (2001 pts)\n",
      "\n",
      "\n",
      "/Users/heiley/Desktop/SURP/gromacs-tutorial/tutorial-3/output_files_exercise/lambda_06/dhdl.xvg: Ignoring set 'pV (kJ/mol)'.\n",
      "/Users/heiley/Desktop/SURP/gromacs-tutorial/tutorial-3/output_files_exercise/lambda_06/dhdl.xvg: 0.0 - 200.0; lambda = 1\n",
      "    dH/dl & foreign lambdas:\n",
      "        dH/dl (fep-lambda) (2001 pts)\n",
      "        delta H to 0.9 (2001 pts)\n",
      "        delta H to 1 (2001 pts)\n",
      "\n",
      "\n",
      "\n",
      "   Samples in time interval: 0.000 - 200.000\n",
      "Removing samples outside of: 100.000 - 200.000\n",
      "\n",
      "Writing histogram to histogram.xvg\n",
      "\n",
      "Temperature: 300 K\n",
      "\n",
      "Detailed results in kT (see help for explanation):\n",
      "\n",
      " lam_A  lam_B      DG   +/-     s_A   +/-     s_B   +/-   stdev   +/- \n",
      "     0      1   16.67  0.64   33.38  1.19   14.41  0.54   51.87 30.49\n",
      "     1      2    3.43  0.09    3.75  0.11    3.93  0.10    3.53  0.04\n",
      "     2      3    0.19  0.10    3.05  0.10    3.17  0.10    2.97  0.06\n",
      "     3      4   -2.64  0.05    3.01  0.13    3.31  0.07    3.05  0.09\n",
      "     4      5   -2.89  0.04    0.92  0.06    1.01  0.04    1.47  0.04\n",
      "     5      6   -4.72  0.08    1.83  0.07    1.96  0.11    2.06  0.07\n",
      "\n",
      "\n",
      "Final results in kJ/mol:\n",
      "\n",
      "point      0 -      1,   DG 41.57 +/-  1.59\n",
      "point      1 -      2,   DG  8.56 +/-  0.24\n",
      "point      2 -      3,   DG  0.49 +/-  0.25\n",
      "point      3 -      4,   DG -6.58 +/-  0.12\n",
      "point      4 -      5,   DG -7.21 +/-  0.11\n",
      "point      5 -      6,   DG -11.76 +/-  0.19\n",
      "\n",
      "total      0 -      6,   DG 25.07 +/-  1.72\n",
      "\n",
      "\n",
      "GROMACS reminds you: \"Roses are read // Violets are blue // Unexpected '}' on line 32\" (Anonymous)\n",
      "\n"
     ]
    }
   ],
   "source": [
    "# Calculate free energy difference using BAR\n",
    "bar_string = ''\n",
    "for lambda_number in range(number_of_lambdas):\n",
    "    lambda_directory=os.path.join(output_files_1,'lambda_{:0>2}'.format(lambda_number))\n",
    "    bar_string=bar_string + lambda_directory + '/dhdl.xvg '\n",
    "!gmx bar -b 100 -f $bar_string -o -oi -oh"
   ]
  },
  {
   "cell_type": "markdown",
   "id": "5de360d7-e845-4dc9-a559-9329a4b4a99a",
   "metadata": {},
   "source": [
    "Result: 25.07 kJ mol^{-1}"
   ]
  },
  {
   "cell_type": "code",
   "execution_count": 89,
   "id": "9bc3b218-4888-4a23-81d6-7d9b7e3b641a",
   "metadata": {},
   "outputs": [
    {
     "data": {
      "image/png": "[encoded data removed]",
      "text/plain": [
       "<Figure size 1000x1500 with 3 Axes>"
      ]
     },
     "metadata": {},
     "output_type": "display_data"
    }
   ],
   "source": [
    "import matplotlib.pyplot as plt\n",
    "\n",
    "# Data from bar.xvg\n",
    "x_bar = [0.500, 1.500, 2.500, 3.500, 4.500, 5.500]\n",
    "y_bar = [16.67, 3.43, 0.19, -2.64, -2.89, -4.72]\n",
    "dy_bar = [0.64, 0.09, 0.10, 0.05, 0.04, 0.08]\n",
    "\n",
    "# Data from barint.xvg\n",
    "x_barint = [0, 1, 2, 3, 4, 5, 6]\n",
    "y_barint = [0.00, 16.67, 20.10, 20.29, 17.66, 14.77, 10.05]\n",
    "\n",
    "# Creating subplots\n",
    "fig, axs = plt.subplots(3, 1, figsize=(10, 15))\n",
    "\n",
    "# Plot for bar.xvg\n",
    "axs[0].errorbar(x_bar, y_bar, yerr=dy_bar, fmt='o-', label='Free energy differences', color='b')\n",
    "axs[0].set_title(\"Free Energy Differences\")\n",
    "axs[0].set_xlabel(\"λ\")\n",
    "axs[0].set_ylabel(\"ΔG (kT)\")\n",
    "axs[0].grid()\n",
    "axs[0].legend()\n",
    "\n",
    "# Plot for barint.xvg\n",
    "axs[1].plot(x_barint, y_barint, marker='o', linestyle='-', color='g')\n",
    "axs[1].set_title(\"Free Energy Integral\")\n",
    "axs[1].set_xlabel(\"λ\")\n",
    "axs[1].set_ylabel(\"ΔG (kT)\")\n",
    "axs[1].grid()\n",
    "\n",
    "# Plotting all data (optional)\n",
    "axs[2].plot(x_bar, y_bar, marker='o', linestyle='-', label='Free energy differences', color='b')\n",
    "axs[2].plot(x_barint, y_barint, marker='x', linestyle='-', label='Free energy integral', color='r')\n",
    "axs[2].set_title(\"Comparison of Free Energy Differences and Integral\")\n",
    "axs[2].set_xlabel(\"λ\")\n",
    "axs[2].set_ylabel(\"ΔG (kT)\")\n",
    "axs[2].grid()\n",
    "axs[2].legend()\n",
    "\n",
    "# Adjust layout\n",
    "plt.tight_layout()\n",
    "plt.show()"
   ]
  },
  {
   "cell_type": "markdown",
   "id": "ebaad4e8-f632-4f50-aead-a626ce094fc9",
   "metadata": {},
   "source": [
    "#### Compare the mdp parameters for alchemical transformation to those used to compute the free energy of solvation\n",
    "Parameters removed from alchemical transformation mdp file:\n",
    "- couple-moltype           = ethanol\n",
    "  - (Specifies the molecule type being altered during the transformation. Removing this means that the particular molecule being transformed (ethanol) is no longer explicitly defined in the setup for the alchemical process.)\n",
    "- couple-intramol          = no\n",
    "  - (Specifies whether intermolecular interactions are included in coupling. Removing this means the decoupled state is not in vacuum state)\n",
    "- couple-lambda1           = vdwq\n",
    "  - (Specifies which interactions are scaled at the final state. Removing this means vdW is not explicitly coupled)\n",
    "- couple-lambda0           = none\n",
    "  - (Specifies which interactions are scaled at the initial state. Removing this means vdW interactions are not turned off and soft-core interactions are not used.)"
   ]
  },
  {
   "cell_type": "code",
   "execution_count": 17,
   "id": "d5956d68-afa5-44b0-8db8-554567f3f0ec",
   "metadata": {},
   "outputs": [
    {
     "name": "stdout",
     "output_type": "stream",
     "text": [
      "29a30\n",
      "\u001b[32m> couple-moltype           = ethanol\n",
      "\u001b[m38c39,42\n",
      "\u001b[31m< init-lambda-state        = 6\n",
      "\u001b[m---\n",
      "\u001b[32m> couple-intramol          = no\n",
      "> couple-lambda1           = vdwq\n",
      "> couple-lambda0           = none\n",
      "> init-lambda-state        = 0\n",
      "\u001b[m"
     ]
    }
   ],
   "source": [
    "!diff --color grompp.mdp ../../output_files/lambda_00/grompp.mdp "
   ]
  },
  {
   "cell_type": "markdown",
   "id": "8bcc5087-9137-4875-b108-8d5b1f225296",
   "metadata": {},
   "source": [
    "Where to go from here\n",
    "After calculating the free energy of solvation, we’ve solved the first part of the free energy of binding of the earlier equations. The second part involves coupling a molecule into (or out of) a situation where it is bound to a protein. This introduces one additional complexity: we end up with a situation where a weakly coupled ligand wanders through our system: weak-couple.png which is bad because this is a poorly reversible situation: there are suddenly very few states that map from a weakly coupled to a more strongly coupled molecule, which will drastically reduce the accuracy of the free energy calculation.\n",
    "\n",
    "This situation can be remedied by forcing the ligand to stay at a specific position relative to the protein. This can be done with the GROMACS ‘pull code’, which allows the specification of arbitrary forces or constraints onto with respect to centers of mass of any chosen set of atoms onto any other group of atoms. With a pull type of ‘umbrella’, we can specify that we want a quadratic potential to this specified location, forcing the ligand to stay at its native position even when it has been fully de-coupled.\n",
    "\n",
    "One way find out where to put the center of the force is by choosing a group of atoms in the protein close to the ligand, and doing a simulation with full ligand coupling, where the pull code is enabled, but with zero force. The pull code will then frequently output the coordinates of the ligand, from which an average position and an expected deviation can be calculated. This can then serve as a reference point for the location of the center of force for the pull code during the production runs, and the force constant of the pull code.\n",
    "\n",
    "Once the free energy has been calculated, care must be taken to correct for the fact that we have trapped our molecule. This can easily be done analytically.\n",
    "\n",
    "Optional Question: Given a measured standard deviation in the location of the center of mass of our ligand, how do we choose the force constant for the pull code?\n",
    "\n",
    "Optional Question: How do we correct for using the pull code: what is the contribution to the free energy of applying a quadratic potential to a molecule?"
   ]
  },
  {
   "cell_type": "code",
   "execution_count": null,
   "id": "856dbeab-186a-4e7b-9ebe-8d8bcee49d44",
   "metadata": {},
   "outputs": [],
   "source": []
  }
 ],
 "metadata": {
  "kernelspec": {
   "display_name": "Python 3 (ipykernel)",
   "language": "python",
   "name": "python3"
  },
  "language_info": {
   "codemirror_mode": {
    "name": "ipython",
    "version": 3
   },
   "file_extension": ".py",
   "mimetype": "text/x-python",
   "name": "python",
   "nbconvert_exporter": "python",
   "pygments_lexer": "ipython3",
   "version": "3.12.4"
  }
 },
 "nbformat": 4,
 "nbformat_minor": 5
}
